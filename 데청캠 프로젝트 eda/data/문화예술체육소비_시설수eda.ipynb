{
 "cells": [
  {
   "cell_type": "code",
   "execution_count": 1,
   "metadata": {},
   "outputs": [],
   "source": [
    "import pandas as pd"
   ]
  },
  {
   "cell_type": "code",
   "execution_count": 2,
   "metadata": {},
   "outputs": [],
   "source": [
    "df = pd.read_csv('../data/문화예술체육소비시군구별시설수.csv')"
   ]
  },
  {
   "cell_type": "code",
   "execution_count": 3,
   "metadata": {},
   "outputs": [
    {
     "data": {
      "text/html": [
       "<div>\n",
       "<style scoped>\n",
       "    .dataframe tbody tr th:only-of-type {\n",
       "        vertical-align: middle;\n",
       "    }\n",
       "\n",
       "    .dataframe tbody tr th {\n",
       "        vertical-align: top;\n",
       "    }\n",
       "\n",
       "    .dataframe thead th {\n",
       "        text-align: right;\n",
       "    }\n",
       "</style>\n",
       "<table border=\"1\" class=\"dataframe\">\n",
       "  <thead>\n",
       "    <tr style=\"text-align: right;\">\n",
       "      <th></th>\n",
       "      <th>LCLAS_NM</th>\n",
       "      <th>MLSFC_NM</th>\n",
       "      <th>SIGNGU_NM</th>\n",
       "      <th>FCLTY_CO</th>\n",
       "    </tr>\n",
       "  </thead>\n",
       "  <tbody>\n",
       "    <tr>\n",
       "      <th>0</th>\n",
       "      <td>문화예술</td>\n",
       "      <td>공연시설</td>\n",
       "      <td>서울특별시 종로구</td>\n",
       "      <td>329</td>\n",
       "    </tr>\n",
       "    <tr>\n",
       "      <th>1</th>\n",
       "      <td>문화예술</td>\n",
       "      <td>공연시설</td>\n",
       "      <td>서울특별시 중구</td>\n",
       "      <td>104</td>\n",
       "    </tr>\n",
       "    <tr>\n",
       "      <th>2</th>\n",
       "      <td>문화예술</td>\n",
       "      <td>공연시설</td>\n",
       "      <td>서울특별시 용산구</td>\n",
       "      <td>149</td>\n",
       "    </tr>\n",
       "    <tr>\n",
       "      <th>3</th>\n",
       "      <td>문화예술</td>\n",
       "      <td>공연시설</td>\n",
       "      <td>서울특별시 성동구</td>\n",
       "      <td>165</td>\n",
       "    </tr>\n",
       "    <tr>\n",
       "      <th>4</th>\n",
       "      <td>문화예술</td>\n",
       "      <td>공연시설</td>\n",
       "      <td>서울특별시 광진구</td>\n",
       "      <td>78</td>\n",
       "    </tr>\n",
       "  </tbody>\n",
       "</table>\n",
       "</div>"
      ],
      "text/plain": [
       "  LCLAS_NM MLSFC_NM  SIGNGU_NM  FCLTY_CO\n",
       "0     문화예술     공연시설  서울특별시 종로구       329\n",
       "1     문화예술     공연시설   서울특별시 중구       104\n",
       "2     문화예술     공연시설  서울특별시 용산구       149\n",
       "3     문화예술     공연시설  서울특별시 성동구       165\n",
       "4     문화예술     공연시설  서울특별시 광진구        78"
      ]
     },
     "execution_count": 3,
     "metadata": {},
     "output_type": "execute_result"
    }
   ],
   "source": [
    "df.head()"
   ]
  },
  {
   "cell_type": "code",
   "execution_count": 4,
   "metadata": {},
   "outputs": [
    {
     "data": {
      "text/html": [
       "<div>\n",
       "<style scoped>\n",
       "    .dataframe tbody tr th:only-of-type {\n",
       "        vertical-align: middle;\n",
       "    }\n",
       "\n",
       "    .dataframe tbody tr th {\n",
       "        vertical-align: top;\n",
       "    }\n",
       "\n",
       "    .dataframe thead th {\n",
       "        text-align: right;\n",
       "    }\n",
       "</style>\n",
       "<table border=\"1\" class=\"dataframe\">\n",
       "  <thead>\n",
       "    <tr style=\"text-align: right;\">\n",
       "      <th></th>\n",
       "      <th>FCLTY_CO</th>\n",
       "    </tr>\n",
       "  </thead>\n",
       "  <tbody>\n",
       "    <tr>\n",
       "      <th>count</th>\n",
       "      <td>4122.000000</td>\n",
       "    </tr>\n",
       "    <tr>\n",
       "      <th>mean</th>\n",
       "      <td>477.802766</td>\n",
       "    </tr>\n",
       "    <tr>\n",
       "      <th>std</th>\n",
       "      <td>1596.931463</td>\n",
       "    </tr>\n",
       "    <tr>\n",
       "      <th>min</th>\n",
       "      <td>0.000000</td>\n",
       "    </tr>\n",
       "    <tr>\n",
       "      <th>25%</th>\n",
       "      <td>10.000000</td>\n",
       "    </tr>\n",
       "    <tr>\n",
       "      <th>50%</th>\n",
       "      <td>54.000000</td>\n",
       "    </tr>\n",
       "    <tr>\n",
       "      <th>75%</th>\n",
       "      <td>211.000000</td>\n",
       "    </tr>\n",
       "    <tr>\n",
       "      <th>max</th>\n",
       "      <td>26763.000000</td>\n",
       "    </tr>\n",
       "  </tbody>\n",
       "</table>\n",
       "</div>"
      ],
      "text/plain": [
       "           FCLTY_CO\n",
       "count   4122.000000\n",
       "mean     477.802766\n",
       "std     1596.931463\n",
       "min        0.000000\n",
       "25%       10.000000\n",
       "50%       54.000000\n",
       "75%      211.000000\n",
       "max    26763.000000"
      ]
     },
     "execution_count": 4,
     "metadata": {},
     "output_type": "execute_result"
    }
   ],
   "source": [
    "df.describe()"
   ]
  },
  {
   "cell_type": "code",
   "execution_count": 5,
   "metadata": {},
   "outputs": [
    {
     "name": "stderr",
     "output_type": "stream",
     "text": [
      "C:\\Users\\morat\\AppData\\Local\\Temp\\ipykernel_1248\\1741743188.py:2: SettingWithCopyWarning: \n",
      "A value is trying to be set on a copy of a slice from a DataFrame.\n",
      "Try using .loc[row_indexer,col_indexer] = value instead\n",
      "\n",
      "See the caveats in the documentation: https://pandas.pydata.org/pandas-docs/stable/user_guide/indexing.html#returning-a-view-versus-a-copy\n",
      "  df_seoul['자치구'] = df_seoul['SIGNGU_NM'].str.split().str[1]\n"
     ]
    },
    {
     "data": {
      "text/html": [
       "<div>\n",
       "<style scoped>\n",
       "    .dataframe tbody tr th:only-of-type {\n",
       "        vertical-align: middle;\n",
       "    }\n",
       "\n",
       "    .dataframe tbody tr th {\n",
       "        vertical-align: top;\n",
       "    }\n",
       "\n",
       "    .dataframe thead th {\n",
       "        text-align: right;\n",
       "    }\n",
       "</style>\n",
       "<table border=\"1\" class=\"dataframe\">\n",
       "  <thead>\n",
       "    <tr style=\"text-align: right;\">\n",
       "      <th></th>\n",
       "      <th>LCLAS_NM</th>\n",
       "      <th>MLSFC_NM</th>\n",
       "      <th>SIGNGU_NM</th>\n",
       "      <th>FCLTY_CO</th>\n",
       "      <th>자치구</th>\n",
       "    </tr>\n",
       "  </thead>\n",
       "  <tbody>\n",
       "    <tr>\n",
       "      <th>0</th>\n",
       "      <td>문화예술</td>\n",
       "      <td>공연시설</td>\n",
       "      <td>서울특별시 종로구</td>\n",
       "      <td>329</td>\n",
       "      <td>종로구</td>\n",
       "    </tr>\n",
       "    <tr>\n",
       "      <th>1</th>\n",
       "      <td>문화예술</td>\n",
       "      <td>공연시설</td>\n",
       "      <td>서울특별시 중구</td>\n",
       "      <td>104</td>\n",
       "      <td>중구</td>\n",
       "    </tr>\n",
       "    <tr>\n",
       "      <th>2</th>\n",
       "      <td>문화예술</td>\n",
       "      <td>공연시설</td>\n",
       "      <td>서울특별시 용산구</td>\n",
       "      <td>149</td>\n",
       "      <td>용산구</td>\n",
       "    </tr>\n",
       "    <tr>\n",
       "      <th>3</th>\n",
       "      <td>문화예술</td>\n",
       "      <td>공연시설</td>\n",
       "      <td>서울특별시 성동구</td>\n",
       "      <td>165</td>\n",
       "      <td>성동구</td>\n",
       "    </tr>\n",
       "    <tr>\n",
       "      <th>4</th>\n",
       "      <td>문화예술</td>\n",
       "      <td>공연시설</td>\n",
       "      <td>서울특별시 광진구</td>\n",
       "      <td>78</td>\n",
       "      <td>광진구</td>\n",
       "    </tr>\n",
       "    <tr>\n",
       "      <th>...</th>\n",
       "      <td>...</td>\n",
       "      <td>...</td>\n",
       "      <td>...</td>\n",
       "      <td>...</td>\n",
       "      <td>...</td>\n",
       "    </tr>\n",
       "    <tr>\n",
       "      <th>3913</th>\n",
       "      <td>소비</td>\n",
       "      <td>기타소비</td>\n",
       "      <td>서울특별시 관악구</td>\n",
       "      <td>597</td>\n",
       "      <td>관악구</td>\n",
       "    </tr>\n",
       "    <tr>\n",
       "      <th>3914</th>\n",
       "      <td>소비</td>\n",
       "      <td>기타소비</td>\n",
       "      <td>서울특별시 서초구</td>\n",
       "      <td>388</td>\n",
       "      <td>서초구</td>\n",
       "    </tr>\n",
       "    <tr>\n",
       "      <th>3915</th>\n",
       "      <td>소비</td>\n",
       "      <td>기타소비</td>\n",
       "      <td>서울특별시 강남구</td>\n",
       "      <td>728</td>\n",
       "      <td>강남구</td>\n",
       "    </tr>\n",
       "    <tr>\n",
       "      <th>3916</th>\n",
       "      <td>소비</td>\n",
       "      <td>기타소비</td>\n",
       "      <td>서울특별시 송파구</td>\n",
       "      <td>811</td>\n",
       "      <td>송파구</td>\n",
       "    </tr>\n",
       "    <tr>\n",
       "      <th>3917</th>\n",
       "      <td>소비</td>\n",
       "      <td>기타소비</td>\n",
       "      <td>서울특별시 강동구</td>\n",
       "      <td>637</td>\n",
       "      <td>강동구</td>\n",
       "    </tr>\n",
       "  </tbody>\n",
       "</table>\n",
       "<p>450 rows × 5 columns</p>\n",
       "</div>"
      ],
      "text/plain": [
       "     LCLAS_NM MLSFC_NM  SIGNGU_NM  FCLTY_CO  자치구\n",
       "0        문화예술     공연시설  서울특별시 종로구       329  종로구\n",
       "1        문화예술     공연시설   서울특별시 중구       104   중구\n",
       "2        문화예술     공연시설  서울특별시 용산구       149  용산구\n",
       "3        문화예술     공연시설  서울특별시 성동구       165  성동구\n",
       "4        문화예술     공연시설  서울특별시 광진구        78  광진구\n",
       "...       ...      ...        ...       ...  ...\n",
       "3913       소비     기타소비  서울특별시 관악구       597  관악구\n",
       "3914       소비     기타소비  서울특별시 서초구       388  서초구\n",
       "3915       소비     기타소비  서울특별시 강남구       728  강남구\n",
       "3916       소비     기타소비  서울특별시 송파구       811  송파구\n",
       "3917       소비     기타소비  서울특별시 강동구       637  강동구\n",
       "\n",
       "[450 rows x 5 columns]"
      ]
     },
     "execution_count": 5,
     "metadata": {},
     "output_type": "execute_result"
    }
   ],
   "source": [
    "df_seoul = df[df['SIGNGU_NM'].str.contains('서울특별시')]\n",
    "df_seoul['자치구'] = df_seoul['SIGNGU_NM'].str.split().str[1]\n",
    "df_seoul"
   ]
  },
  {
   "cell_type": "code",
   "execution_count": 6,
   "metadata": {},
   "outputs": [
    {
     "data": {
      "text/html": [
       "<div>\n",
       "<style scoped>\n",
       "    .dataframe tbody tr th:only-of-type {\n",
       "        vertical-align: middle;\n",
       "    }\n",
       "\n",
       "    .dataframe tbody tr th {\n",
       "        vertical-align: top;\n",
       "    }\n",
       "\n",
       "    .dataframe thead th {\n",
       "        text-align: right;\n",
       "    }\n",
       "</style>\n",
       "<table border=\"1\" class=\"dataframe\">\n",
       "  <thead>\n",
       "    <tr style=\"text-align: right;\">\n",
       "      <th></th>\n",
       "      <th>LCLAS_NM</th>\n",
       "      <th>MLSFC_NM</th>\n",
       "      <th>SIGNGU_NM</th>\n",
       "      <th>FCLTY_CO</th>\n",
       "      <th>자치구</th>\n",
       "    </tr>\n",
       "  </thead>\n",
       "  <tbody>\n",
       "    <tr>\n",
       "      <th>0</th>\n",
       "      <td>문화예술</td>\n",
       "      <td>공연시설</td>\n",
       "      <td>서울특별시 종로구</td>\n",
       "      <td>329</td>\n",
       "      <td>종로구</td>\n",
       "    </tr>\n",
       "    <tr>\n",
       "      <th>1</th>\n",
       "      <td>문화예술</td>\n",
       "      <td>공연시설</td>\n",
       "      <td>서울특별시 중구</td>\n",
       "      <td>104</td>\n",
       "      <td>중구</td>\n",
       "    </tr>\n",
       "    <tr>\n",
       "      <th>2</th>\n",
       "      <td>문화예술</td>\n",
       "      <td>공연시설</td>\n",
       "      <td>서울특별시 용산구</td>\n",
       "      <td>149</td>\n",
       "      <td>용산구</td>\n",
       "    </tr>\n",
       "    <tr>\n",
       "      <th>3</th>\n",
       "      <td>문화예술</td>\n",
       "      <td>공연시설</td>\n",
       "      <td>서울특별시 성동구</td>\n",
       "      <td>165</td>\n",
       "      <td>성동구</td>\n",
       "    </tr>\n",
       "    <tr>\n",
       "      <th>4</th>\n",
       "      <td>문화예술</td>\n",
       "      <td>공연시설</td>\n",
       "      <td>서울특별시 광진구</td>\n",
       "      <td>78</td>\n",
       "      <td>광진구</td>\n",
       "    </tr>\n",
       "    <tr>\n",
       "      <th>5</th>\n",
       "      <td>문화예술</td>\n",
       "      <td>공연시설</td>\n",
       "      <td>서울특별시 동대문구</td>\n",
       "      <td>21</td>\n",
       "      <td>동대문구</td>\n",
       "    </tr>\n",
       "    <tr>\n",
       "      <th>6</th>\n",
       "      <td>문화예술</td>\n",
       "      <td>공연시설</td>\n",
       "      <td>서울특별시 중랑구</td>\n",
       "      <td>21</td>\n",
       "      <td>중랑구</td>\n",
       "    </tr>\n",
       "    <tr>\n",
       "      <th>7</th>\n",
       "      <td>문화예술</td>\n",
       "      <td>공연시설</td>\n",
       "      <td>서울특별시 성북구</td>\n",
       "      <td>73</td>\n",
       "      <td>성북구</td>\n",
       "    </tr>\n",
       "    <tr>\n",
       "      <th>8</th>\n",
       "      <td>문화예술</td>\n",
       "      <td>공연시설</td>\n",
       "      <td>서울특별시 강북구</td>\n",
       "      <td>20</td>\n",
       "      <td>강북구</td>\n",
       "    </tr>\n",
       "    <tr>\n",
       "      <th>9</th>\n",
       "      <td>문화예술</td>\n",
       "      <td>공연시설</td>\n",
       "      <td>서울특별시 도봉구</td>\n",
       "      <td>16</td>\n",
       "      <td>도봉구</td>\n",
       "    </tr>\n",
       "    <tr>\n",
       "      <th>10</th>\n",
       "      <td>문화예술</td>\n",
       "      <td>공연시설</td>\n",
       "      <td>서울특별시 노원구</td>\n",
       "      <td>24</td>\n",
       "      <td>노원구</td>\n",
       "    </tr>\n",
       "    <tr>\n",
       "      <th>11</th>\n",
       "      <td>문화예술</td>\n",
       "      <td>공연시설</td>\n",
       "      <td>서울특별시 은평구</td>\n",
       "      <td>35</td>\n",
       "      <td>은평구</td>\n",
       "    </tr>\n",
       "    <tr>\n",
       "      <th>12</th>\n",
       "      <td>문화예술</td>\n",
       "      <td>공연시설</td>\n",
       "      <td>서울특별시 서대문구</td>\n",
       "      <td>68</td>\n",
       "      <td>서대문구</td>\n",
       "    </tr>\n",
       "    <tr>\n",
       "      <th>13</th>\n",
       "      <td>문화예술</td>\n",
       "      <td>공연시설</td>\n",
       "      <td>서울특별시 마포구</td>\n",
       "      <td>507</td>\n",
       "      <td>마포구</td>\n",
       "    </tr>\n",
       "    <tr>\n",
       "      <th>14</th>\n",
       "      <td>문화예술</td>\n",
       "      <td>공연시설</td>\n",
       "      <td>서울특별시 양천구</td>\n",
       "      <td>46</td>\n",
       "      <td>양천구</td>\n",
       "    </tr>\n",
       "    <tr>\n",
       "      <th>15</th>\n",
       "      <td>문화예술</td>\n",
       "      <td>공연시설</td>\n",
       "      <td>서울특별시 강서구</td>\n",
       "      <td>97</td>\n",
       "      <td>강서구</td>\n",
       "    </tr>\n",
       "    <tr>\n",
       "      <th>16</th>\n",
       "      <td>문화예술</td>\n",
       "      <td>공연시설</td>\n",
       "      <td>서울특별시 구로구</td>\n",
       "      <td>52</td>\n",
       "      <td>구로구</td>\n",
       "    </tr>\n",
       "    <tr>\n",
       "      <th>17</th>\n",
       "      <td>문화예술</td>\n",
       "      <td>공연시설</td>\n",
       "      <td>서울특별시 금천구</td>\n",
       "      <td>41</td>\n",
       "      <td>금천구</td>\n",
       "    </tr>\n",
       "    <tr>\n",
       "      <th>18</th>\n",
       "      <td>문화예술</td>\n",
       "      <td>공연시설</td>\n",
       "      <td>서울특별시 영등포구</td>\n",
       "      <td>145</td>\n",
       "      <td>영등포구</td>\n",
       "    </tr>\n",
       "    <tr>\n",
       "      <th>19</th>\n",
       "      <td>문화예술</td>\n",
       "      <td>공연시설</td>\n",
       "      <td>서울특별시 동작구</td>\n",
       "      <td>44</td>\n",
       "      <td>동작구</td>\n",
       "    </tr>\n",
       "    <tr>\n",
       "      <th>20</th>\n",
       "      <td>문화예술</td>\n",
       "      <td>공연시설</td>\n",
       "      <td>서울특별시 관악구</td>\n",
       "      <td>44</td>\n",
       "      <td>관악구</td>\n",
       "    </tr>\n",
       "    <tr>\n",
       "      <th>21</th>\n",
       "      <td>문화예술</td>\n",
       "      <td>공연시설</td>\n",
       "      <td>서울특별시 서초구</td>\n",
       "      <td>416</td>\n",
       "      <td>서초구</td>\n",
       "    </tr>\n",
       "    <tr>\n",
       "      <th>22</th>\n",
       "      <td>문화예술</td>\n",
       "      <td>공연시설</td>\n",
       "      <td>서울특별시 강남구</td>\n",
       "      <td>1374</td>\n",
       "      <td>강남구</td>\n",
       "    </tr>\n",
       "    <tr>\n",
       "      <th>23</th>\n",
       "      <td>문화예술</td>\n",
       "      <td>공연시설</td>\n",
       "      <td>서울특별시 송파구</td>\n",
       "      <td>97</td>\n",
       "      <td>송파구</td>\n",
       "    </tr>\n",
       "    <tr>\n",
       "      <th>24</th>\n",
       "      <td>문화예술</td>\n",
       "      <td>공연시설</td>\n",
       "      <td>서울특별시 강동구</td>\n",
       "      <td>38</td>\n",
       "      <td>강동구</td>\n",
       "    </tr>\n",
       "  </tbody>\n",
       "</table>\n",
       "</div>"
      ],
      "text/plain": [
       "   LCLAS_NM MLSFC_NM   SIGNGU_NM  FCLTY_CO   자치구\n",
       "0      문화예술     공연시설   서울특별시 종로구       329   종로구\n",
       "1      문화예술     공연시설    서울특별시 중구       104    중구\n",
       "2      문화예술     공연시설   서울특별시 용산구       149   용산구\n",
       "3      문화예술     공연시설   서울특별시 성동구       165   성동구\n",
       "4      문화예술     공연시설   서울특별시 광진구        78   광진구\n",
       "5      문화예술     공연시설  서울특별시 동대문구        21  동대문구\n",
       "6      문화예술     공연시설   서울특별시 중랑구        21   중랑구\n",
       "7      문화예술     공연시설   서울특별시 성북구        73   성북구\n",
       "8      문화예술     공연시설   서울특별시 강북구        20   강북구\n",
       "9      문화예술     공연시설   서울특별시 도봉구        16   도봉구\n",
       "10     문화예술     공연시설   서울특별시 노원구        24   노원구\n",
       "11     문화예술     공연시설   서울특별시 은평구        35   은평구\n",
       "12     문화예술     공연시설  서울특별시 서대문구        68  서대문구\n",
       "13     문화예술     공연시설   서울특별시 마포구       507   마포구\n",
       "14     문화예술     공연시설   서울특별시 양천구        46   양천구\n",
       "15     문화예술     공연시설   서울특별시 강서구        97   강서구\n",
       "16     문화예술     공연시설   서울특별시 구로구        52   구로구\n",
       "17     문화예술     공연시설   서울특별시 금천구        41   금천구\n",
       "18     문화예술     공연시설  서울특별시 영등포구       145  영등포구\n",
       "19     문화예술     공연시설   서울특별시 동작구        44   동작구\n",
       "20     문화예술     공연시설   서울특별시 관악구        44   관악구\n",
       "21     문화예술     공연시설   서울특별시 서초구       416   서초구\n",
       "22     문화예술     공연시설   서울특별시 강남구      1374   강남구\n",
       "23     문화예술     공연시설   서울특별시 송파구        97   송파구\n",
       "24     문화예술     공연시설   서울특별시 강동구        38   강동구"
      ]
     },
     "execution_count": 6,
     "metadata": {},
     "output_type": "execute_result"
    }
   ],
   "source": [
    "import matplotlib.pyplot as plt\n",
    "import seaborn as sns\n",
    "\n",
    "df_seoul['MLSFC_NM'].unique()\n",
    "df_seoul_공연시설 = df_seoul[df_seoul['MLSFC_NM'].str.contains('공연시설')]\n",
    "df_seoul_공연시설"
   ]
  },
  {
   "cell_type": "code",
   "execution_count": 30,
   "metadata": {},
   "outputs": [
    {
     "data": {
      "text/plain": [
       "array(['문화예술', '체육', '휴식', '소비'], dtype=object)"
      ]
     },
     "execution_count": 30,
     "metadata": {},
     "output_type": "execute_result"
    }
   ],
   "source": [
    "df_seoul['LCLAS_NM'].unique()"
   ]
  },
  {
   "cell_type": "code",
   "execution_count": 7,
   "metadata": {},
   "outputs": [
    {
     "data": {
      "text/plain": [
       "array(['공연시설', '전시시설', '지역문화시설', '학교/교육기관', '문화예술서비스', '생활스포츠시설',\n",
       "       '전문스포츠시설', '스포츠서비스업', '공원', '관광지', '동/식물원/휴양림', '휴식시설/서비스', '음식소비',\n",
       "       '패션/미용소비', '개인/생활용품소비', '대형소비시설', '기타소비'], dtype=object)"
      ]
     },
     "execution_count": 7,
     "metadata": {},
     "output_type": "execute_result"
    }
   ],
   "source": [
    "df_seoul['MLSFC_NM'].unique()"
   ]
  },
  {
   "cell_type": "code",
   "execution_count": 8,
   "metadata": {},
   "outputs": [
    {
     "data": {
      "text/plain": [
       "Text(0.5, 1.0, '공연시설수')"
      ]
     },
     "execution_count": 8,
     "metadata": {},
     "output_type": "execute_result"
    },
    {
     "data": {
      "image/png": "[encoded data removed]",
      "text/plain": [
       "<Figure size 1440x576 with 1 Axes>"
      ]
     },
     "metadata": {
      "needs_background": "light"
     },
     "output_type": "display_data"
    }
   ],
   "source": [
    "plt.rcParams['font.family'] = 'Malgun Gothic'\n",
    "plt.figure(figsize = (20,8))\n",
    "\n",
    "sns.barplot(x='자치구', y='FCLTY_CO',data=df_seoul_공연시설)\n",
    "plt.xlabel('자치구')\n",
    "plt.ylabel('시설수')\n",
    "plt.title('공연시설수')"
   ]
  },
  {
   "cell_type": "code",
   "execution_count": 9,
   "metadata": {},
   "outputs": [
    {
     "data": {
      "text/html": [
       "<div>\n",
       "<style scoped>\n",
       "    .dataframe tbody tr th:only-of-type {\n",
       "        vertical-align: middle;\n",
       "    }\n",
       "\n",
       "    .dataframe tbody tr th {\n",
       "        vertical-align: top;\n",
       "    }\n",
       "\n",
       "    .dataframe thead th {\n",
       "        text-align: right;\n",
       "    }\n",
       "</style>\n",
       "<table border=\"1\" class=\"dataframe\">\n",
       "  <thead>\n",
       "    <tr style=\"text-align: right;\">\n",
       "      <th></th>\n",
       "      <th>LCLAS_NM</th>\n",
       "      <th>MLSFC_NM</th>\n",
       "      <th>SIGNGU_NM</th>\n",
       "      <th>FCLTY_CO</th>\n",
       "      <th>자치구</th>\n",
       "    </tr>\n",
       "  </thead>\n",
       "  <tbody>\n",
       "    <tr>\n",
       "      <th>229</th>\n",
       "      <td>문화예술</td>\n",
       "      <td>전시시설</td>\n",
       "      <td>서울특별시 종로구</td>\n",
       "      <td>176</td>\n",
       "      <td>종로구</td>\n",
       "    </tr>\n",
       "    <tr>\n",
       "      <th>230</th>\n",
       "      <td>문화예술</td>\n",
       "      <td>전시시설</td>\n",
       "      <td>서울특별시 중구</td>\n",
       "      <td>126</td>\n",
       "      <td>중구</td>\n",
       "    </tr>\n",
       "    <tr>\n",
       "      <th>231</th>\n",
       "      <td>문화예술</td>\n",
       "      <td>전시시설</td>\n",
       "      <td>서울특별시 용산구</td>\n",
       "      <td>104</td>\n",
       "      <td>용산구</td>\n",
       "    </tr>\n",
       "    <tr>\n",
       "      <th>232</th>\n",
       "      <td>문화예술</td>\n",
       "      <td>전시시설</td>\n",
       "      <td>서울특별시 성동구</td>\n",
       "      <td>95</td>\n",
       "      <td>성동구</td>\n",
       "    </tr>\n",
       "    <tr>\n",
       "      <th>233</th>\n",
       "      <td>문화예술</td>\n",
       "      <td>전시시설</td>\n",
       "      <td>서울특별시 광진구</td>\n",
       "      <td>115</td>\n",
       "      <td>광진구</td>\n",
       "    </tr>\n",
       "    <tr>\n",
       "      <th>234</th>\n",
       "      <td>문화예술</td>\n",
       "      <td>전시시설</td>\n",
       "      <td>서울특별시 동대문구</td>\n",
       "      <td>140</td>\n",
       "      <td>동대문구</td>\n",
       "    </tr>\n",
       "    <tr>\n",
       "      <th>235</th>\n",
       "      <td>문화예술</td>\n",
       "      <td>전시시설</td>\n",
       "      <td>서울특별시 중랑구</td>\n",
       "      <td>116</td>\n",
       "      <td>중랑구</td>\n",
       "    </tr>\n",
       "    <tr>\n",
       "      <th>236</th>\n",
       "      <td>문화예술</td>\n",
       "      <td>전시시설</td>\n",
       "      <td>서울특별시 성북구</td>\n",
       "      <td>173</td>\n",
       "      <td>성북구</td>\n",
       "    </tr>\n",
       "    <tr>\n",
       "      <th>237</th>\n",
       "      <td>문화예술</td>\n",
       "      <td>전시시설</td>\n",
       "      <td>서울특별시 강북구</td>\n",
       "      <td>106</td>\n",
       "      <td>강북구</td>\n",
       "    </tr>\n",
       "    <tr>\n",
       "      <th>238</th>\n",
       "      <td>문화예술</td>\n",
       "      <td>전시시설</td>\n",
       "      <td>서울특별시 도봉구</td>\n",
       "      <td>118</td>\n",
       "      <td>도봉구</td>\n",
       "    </tr>\n",
       "    <tr>\n",
       "      <th>239</th>\n",
       "      <td>문화예술</td>\n",
       "      <td>전시시설</td>\n",
       "      <td>서울특별시 노원구</td>\n",
       "      <td>205</td>\n",
       "      <td>노원구</td>\n",
       "    </tr>\n",
       "    <tr>\n",
       "      <th>240</th>\n",
       "      <td>문화예술</td>\n",
       "      <td>전시시설</td>\n",
       "      <td>서울특별시 은평구</td>\n",
       "      <td>185</td>\n",
       "      <td>은평구</td>\n",
       "    </tr>\n",
       "    <tr>\n",
       "      <th>241</th>\n",
       "      <td>문화예술</td>\n",
       "      <td>전시시설</td>\n",
       "      <td>서울특별시 서대문구</td>\n",
       "      <td>129</td>\n",
       "      <td>서대문구</td>\n",
       "    </tr>\n",
       "    <tr>\n",
       "      <th>242</th>\n",
       "      <td>문화예술</td>\n",
       "      <td>전시시설</td>\n",
       "      <td>서울특별시 마포구</td>\n",
       "      <td>133</td>\n",
       "      <td>마포구</td>\n",
       "    </tr>\n",
       "    <tr>\n",
       "      <th>243</th>\n",
       "      <td>문화예술</td>\n",
       "      <td>전시시설</td>\n",
       "      <td>서울특별시 양천구</td>\n",
       "      <td>149</td>\n",
       "      <td>양천구</td>\n",
       "    </tr>\n",
       "    <tr>\n",
       "      <th>244</th>\n",
       "      <td>문화예술</td>\n",
       "      <td>전시시설</td>\n",
       "      <td>서울특별시 강서구</td>\n",
       "      <td>210</td>\n",
       "      <td>강서구</td>\n",
       "    </tr>\n",
       "    <tr>\n",
       "      <th>245</th>\n",
       "      <td>문화예술</td>\n",
       "      <td>전시시설</td>\n",
       "      <td>서울특별시 구로구</td>\n",
       "      <td>167</td>\n",
       "      <td>구로구</td>\n",
       "    </tr>\n",
       "    <tr>\n",
       "      <th>246</th>\n",
       "      <td>문화예술</td>\n",
       "      <td>전시시설</td>\n",
       "      <td>서울특별시 금천구</td>\n",
       "      <td>80</td>\n",
       "      <td>금천구</td>\n",
       "    </tr>\n",
       "    <tr>\n",
       "      <th>247</th>\n",
       "      <td>문화예술</td>\n",
       "      <td>전시시설</td>\n",
       "      <td>서울특별시 영등포구</td>\n",
       "      <td>165</td>\n",
       "      <td>영등포구</td>\n",
       "    </tr>\n",
       "    <tr>\n",
       "      <th>248</th>\n",
       "      <td>문화예술</td>\n",
       "      <td>전시시설</td>\n",
       "      <td>서울특별시 동작구</td>\n",
       "      <td>171</td>\n",
       "      <td>동작구</td>\n",
       "    </tr>\n",
       "    <tr>\n",
       "      <th>249</th>\n",
       "      <td>문화예술</td>\n",
       "      <td>전시시설</td>\n",
       "      <td>서울특별시 관악구</td>\n",
       "      <td>196</td>\n",
       "      <td>관악구</td>\n",
       "    </tr>\n",
       "    <tr>\n",
       "      <th>250</th>\n",
       "      <td>문화예술</td>\n",
       "      <td>전시시설</td>\n",
       "      <td>서울특별시 서초구</td>\n",
       "      <td>196</td>\n",
       "      <td>서초구</td>\n",
       "    </tr>\n",
       "    <tr>\n",
       "      <th>251</th>\n",
       "      <td>문화예술</td>\n",
       "      <td>전시시설</td>\n",
       "      <td>서울특별시 강남구</td>\n",
       "      <td>267</td>\n",
       "      <td>강남구</td>\n",
       "    </tr>\n",
       "    <tr>\n",
       "      <th>252</th>\n",
       "      <td>문화예술</td>\n",
       "      <td>전시시설</td>\n",
       "      <td>서울특별시 송파구</td>\n",
       "      <td>258</td>\n",
       "      <td>송파구</td>\n",
       "    </tr>\n",
       "    <tr>\n",
       "      <th>253</th>\n",
       "      <td>문화예술</td>\n",
       "      <td>전시시설</td>\n",
       "      <td>서울특별시 강동구</td>\n",
       "      <td>169</td>\n",
       "      <td>강동구</td>\n",
       "    </tr>\n",
       "  </tbody>\n",
       "</table>\n",
       "</div>"
      ],
      "text/plain": [
       "    LCLAS_NM MLSFC_NM   SIGNGU_NM  FCLTY_CO   자치구\n",
       "229     문화예술     전시시설   서울특별시 종로구       176   종로구\n",
       "230     문화예술     전시시설    서울특별시 중구       126    중구\n",
       "231     문화예술     전시시설   서울특별시 용산구       104   용산구\n",
       "232     문화예술     전시시설   서울특별시 성동구        95   성동구\n",
       "233     문화예술     전시시설   서울특별시 광진구       115   광진구\n",
       "234     문화예술     전시시설  서울특별시 동대문구       140  동대문구\n",
       "235     문화예술     전시시설   서울특별시 중랑구       116   중랑구\n",
       "236     문화예술     전시시설   서울특별시 성북구       173   성북구\n",
       "237     문화예술     전시시설   서울특별시 강북구       106   강북구\n",
       "238     문화예술     전시시설   서울특별시 도봉구       118   도봉구\n",
       "239     문화예술     전시시설   서울특별시 노원구       205   노원구\n",
       "240     문화예술     전시시설   서울특별시 은평구       185   은평구\n",
       "241     문화예술     전시시설  서울특별시 서대문구       129  서대문구\n",
       "242     문화예술     전시시설   서울특별시 마포구       133   마포구\n",
       "243     문화예술     전시시설   서울특별시 양천구       149   양천구\n",
       "244     문화예술     전시시설   서울특별시 강서구       210   강서구\n",
       "245     문화예술     전시시설   서울특별시 구로구       167   구로구\n",
       "246     문화예술     전시시설   서울특별시 금천구        80   금천구\n",
       "247     문화예술     전시시설  서울특별시 영등포구       165  영등포구\n",
       "248     문화예술     전시시설   서울특별시 동작구       171   동작구\n",
       "249     문화예술     전시시설   서울특별시 관악구       196   관악구\n",
       "250     문화예술     전시시설   서울특별시 서초구       196   서초구\n",
       "251     문화예술     전시시설   서울특별시 강남구       267   강남구\n",
       "252     문화예술     전시시설   서울특별시 송파구       258   송파구\n",
       "253     문화예술     전시시설   서울특별시 강동구       169   강동구"
      ]
     },
     "execution_count": 9,
     "metadata": {},
     "output_type": "execute_result"
    }
   ],
   "source": [
    "df_seoul_전시시설 = df_seoul[df_seoul['MLSFC_NM'].str.contains('전시시설')]\n",
    "df_seoul_전시시설"
   ]
  },
  {
   "cell_type": "code",
   "execution_count": 10,
   "metadata": {},
   "outputs": [
    {
     "data": {
      "text/plain": [
       "Text(0.5, 1.0, '전시시설수')"
      ]
     },
     "execution_count": 10,
     "metadata": {},
     "output_type": "execute_result"
    },
    {
     "data": {
      "image/png": "[encoded data removed]",
      "text/plain": [
       "<Figure size 1440x576 with 1 Axes>"
      ]
     },
     "metadata": {
      "needs_background": "light"
     },
     "output_type": "display_data"
    }
   ],
   "source": [
    "plt.figure(figsize = (20,8))\n",
    "sns.barplot(x='자치구', y='FCLTY_CO',data=df_seoul_전시시설)\n",
    "plt.xlabel('자치구')\n",
    "plt.ylabel('시설수')\n",
    "plt.title('전시시설수')"
   ]
  },
  {
   "cell_type": "code",
   "execution_count": 11,
   "metadata": {},
   "outputs": [
    {
     "data": {
      "text/html": [
       "<div>\n",
       "<style scoped>\n",
       "    .dataframe tbody tr th:only-of-type {\n",
       "        vertical-align: middle;\n",
       "    }\n",
       "\n",
       "    .dataframe tbody tr th {\n",
       "        vertical-align: top;\n",
       "    }\n",
       "\n",
       "    .dataframe thead th {\n",
       "        text-align: right;\n",
       "    }\n",
       "</style>\n",
       "<table border=\"1\" class=\"dataframe\">\n",
       "  <thead>\n",
       "    <tr style=\"text-align: right;\">\n",
       "      <th></th>\n",
       "      <th>LCLAS_NM</th>\n",
       "      <th>MLSFC_NM</th>\n",
       "      <th>SIGNGU_NM</th>\n",
       "      <th>FCLTY_CO</th>\n",
       "      <th>자치구</th>\n",
       "    </tr>\n",
       "  </thead>\n",
       "  <tbody>\n",
       "    <tr>\n",
       "      <th>458</th>\n",
       "      <td>문화예술</td>\n",
       "      <td>지역문화시설</td>\n",
       "      <td>서울특별시 종로구</td>\n",
       "      <td>67</td>\n",
       "      <td>종로구</td>\n",
       "    </tr>\n",
       "    <tr>\n",
       "      <th>459</th>\n",
       "      <td>문화예술</td>\n",
       "      <td>지역문화시설</td>\n",
       "      <td>서울특별시 중구</td>\n",
       "      <td>26</td>\n",
       "      <td>중구</td>\n",
       "    </tr>\n",
       "    <tr>\n",
       "      <th>460</th>\n",
       "      <td>문화예술</td>\n",
       "      <td>지역문화시설</td>\n",
       "      <td>서울특별시 용산구</td>\n",
       "      <td>11</td>\n",
       "      <td>용산구</td>\n",
       "    </tr>\n",
       "    <tr>\n",
       "      <th>461</th>\n",
       "      <td>문화예술</td>\n",
       "      <td>지역문화시설</td>\n",
       "      <td>서울특별시 성동구</td>\n",
       "      <td>13</td>\n",
       "      <td>성동구</td>\n",
       "    </tr>\n",
       "    <tr>\n",
       "      <th>462</th>\n",
       "      <td>문화예술</td>\n",
       "      <td>지역문화시설</td>\n",
       "      <td>서울특별시 광진구</td>\n",
       "      <td>19</td>\n",
       "      <td>광진구</td>\n",
       "    </tr>\n",
       "  </tbody>\n",
       "</table>\n",
       "</div>"
      ],
      "text/plain": [
       "    LCLAS_NM MLSFC_NM  SIGNGU_NM  FCLTY_CO  자치구\n",
       "458     문화예술   지역문화시설  서울특별시 종로구        67  종로구\n",
       "459     문화예술   지역문화시설   서울특별시 중구        26   중구\n",
       "460     문화예술   지역문화시설  서울특별시 용산구        11  용산구\n",
       "461     문화예술   지역문화시설  서울특별시 성동구        13  성동구\n",
       "462     문화예술   지역문화시설  서울특별시 광진구        19  광진구"
      ]
     },
     "execution_count": 11,
     "metadata": {},
     "output_type": "execute_result"
    }
   ],
   "source": [
    "df_seoul_지역문화시설 = df_seoul[df_seoul['MLSFC_NM'].str.contains('지역문화시설')]\n",
    "df_seoul_지역문화시설.head()"
   ]
  },
  {
   "cell_type": "code",
   "execution_count": 12,
   "metadata": {},
   "outputs": [
    {
     "data": {
      "text/plain": [
       "Text(0.5, 1.0, '지역문화시설')"
      ]
     },
     "execution_count": 12,
     "metadata": {},
     "output_type": "execute_result"
    },
    {
     "data": {
      "image/png": "[encoded data removed]",
      "text/plain": [
       "<Figure size 1440x576 with 1 Axes>"
      ]
     },
     "metadata": {
      "needs_background": "light"
     },
     "output_type": "display_data"
    }
   ],
   "source": [
    "plt.figure(figsize = (20,8))\n",
    "sns.barplot(x='자치구', y='FCLTY_CO',data=df_seoul_지역문화시설)\n",
    "plt.xlabel('자치구')\n",
    "plt.ylabel('시설수')\n",
    "plt.title('지역문화시설')"
   ]
  },
  {
   "cell_type": "code",
   "execution_count": 13,
   "metadata": {},
   "outputs": [
    {
     "data": {
      "text/html": [
       "<div>\n",
       "<style scoped>\n",
       "    .dataframe tbody tr th:only-of-type {\n",
       "        vertical-align: middle;\n",
       "    }\n",
       "\n",
       "    .dataframe tbody tr th {\n",
       "        vertical-align: top;\n",
       "    }\n",
       "\n",
       "    .dataframe thead th {\n",
       "        text-align: right;\n",
       "    }\n",
       "</style>\n",
       "<table border=\"1\" class=\"dataframe\">\n",
       "  <thead>\n",
       "    <tr style=\"text-align: right;\">\n",
       "      <th></th>\n",
       "      <th>LCLAS_NM</th>\n",
       "      <th>MLSFC_NM</th>\n",
       "      <th>SIGNGU_NM</th>\n",
       "      <th>FCLTY_CO</th>\n",
       "      <th>자치구</th>\n",
       "    </tr>\n",
       "  </thead>\n",
       "  <tbody>\n",
       "    <tr>\n",
       "      <th>916</th>\n",
       "      <td>문화예술</td>\n",
       "      <td>문화예술서비스</td>\n",
       "      <td>서울특별시 종로구</td>\n",
       "      <td>419</td>\n",
       "      <td>종로구</td>\n",
       "    </tr>\n",
       "    <tr>\n",
       "      <th>917</th>\n",
       "      <td>문화예술</td>\n",
       "      <td>문화예술서비스</td>\n",
       "      <td>서울특별시 중구</td>\n",
       "      <td>109</td>\n",
       "      <td>중구</td>\n",
       "    </tr>\n",
       "    <tr>\n",
       "      <th>918</th>\n",
       "      <td>문화예술</td>\n",
       "      <td>문화예술서비스</td>\n",
       "      <td>서울특별시 용산구</td>\n",
       "      <td>93</td>\n",
       "      <td>용산구</td>\n",
       "    </tr>\n",
       "    <tr>\n",
       "      <th>919</th>\n",
       "      <td>문화예술</td>\n",
       "      <td>문화예술서비스</td>\n",
       "      <td>서울특별시 성동구</td>\n",
       "      <td>61</td>\n",
       "      <td>성동구</td>\n",
       "    </tr>\n",
       "    <tr>\n",
       "      <th>920</th>\n",
       "      <td>문화예술</td>\n",
       "      <td>문화예술서비스</td>\n",
       "      <td>서울특별시 광진구</td>\n",
       "      <td>91</td>\n",
       "      <td>광진구</td>\n",
       "    </tr>\n",
       "  </tbody>\n",
       "</table>\n",
       "</div>"
      ],
      "text/plain": [
       "    LCLAS_NM MLSFC_NM  SIGNGU_NM  FCLTY_CO  자치구\n",
       "916     문화예술  문화예술서비스  서울특별시 종로구       419  종로구\n",
       "917     문화예술  문화예술서비스   서울특별시 중구       109   중구\n",
       "918     문화예술  문화예술서비스  서울특별시 용산구        93  용산구\n",
       "919     문화예술  문화예술서비스  서울특별시 성동구        61  성동구\n",
       "920     문화예술  문화예술서비스  서울특별시 광진구        91  광진구"
      ]
     },
     "execution_count": 13,
     "metadata": {},
     "output_type": "execute_result"
    }
   ],
   "source": [
    "df_seoul_문화예술서비스 = df_seoul[df_seoul['MLSFC_NM'].str.contains('문화예술서비스')]\n",
    "df_seoul_문화예술서비스.head()"
   ]
  },
  {
   "cell_type": "code",
   "execution_count": 14,
   "metadata": {},
   "outputs": [
    {
     "data": {
      "text/plain": [
       "Text(0.5, 1.0, '문화예술서비스')"
      ]
     },
     "execution_count": 14,
     "metadata": {},
     "output_type": "execute_result"
    },
    {
     "data": {
      "image/png": "[encoded data removed]",
      "text/plain": [
       "<Figure size 1440x576 with 1 Axes>"
      ]
     },
     "metadata": {
      "needs_background": "light"
     },
     "output_type": "display_data"
    }
   ],
   "source": [
    "plt.figure(figsize = (20,8))\n",
    "sns.barplot(x='자치구', y='FCLTY_CO',data=df_seoul_문화예술서비스)\n",
    "plt.xlabel('자치구')\n",
    "plt.ylabel('시설수')\n",
    "plt.title('문화예술서비스')"
   ]
  },
  {
   "cell_type": "code",
   "execution_count": 15,
   "metadata": {},
   "outputs": [
    {
     "data": {
      "text/html": [
       "<div>\n",
       "<style scoped>\n",
       "    .dataframe tbody tr th:only-of-type {\n",
       "        vertical-align: middle;\n",
       "    }\n",
       "\n",
       "    .dataframe tbody tr th {\n",
       "        vertical-align: top;\n",
       "    }\n",
       "\n",
       "    .dataframe thead th {\n",
       "        text-align: right;\n",
       "    }\n",
       "</style>\n",
       "<table border=\"1\" class=\"dataframe\">\n",
       "  <thead>\n",
       "    <tr style=\"text-align: right;\">\n",
       "      <th></th>\n",
       "      <th>LCLAS_NM</th>\n",
       "      <th>MLSFC_NM</th>\n",
       "      <th>SIGNGU_NM</th>\n",
       "      <th>FCLTY_CO</th>\n",
       "      <th>자치구</th>\n",
       "    </tr>\n",
       "  </thead>\n",
       "  <tbody>\n",
       "    <tr>\n",
       "      <th>1145</th>\n",
       "      <td>체육</td>\n",
       "      <td>생활스포츠시설</td>\n",
       "      <td>서울특별시 종로구</td>\n",
       "      <td>10</td>\n",
       "      <td>종로구</td>\n",
       "    </tr>\n",
       "    <tr>\n",
       "      <th>1146</th>\n",
       "      <td>체육</td>\n",
       "      <td>생활스포츠시설</td>\n",
       "      <td>서울특별시 중구</td>\n",
       "      <td>9</td>\n",
       "      <td>중구</td>\n",
       "    </tr>\n",
       "    <tr>\n",
       "      <th>1147</th>\n",
       "      <td>체육</td>\n",
       "      <td>생활스포츠시설</td>\n",
       "      <td>서울특별시 용산구</td>\n",
       "      <td>9</td>\n",
       "      <td>용산구</td>\n",
       "    </tr>\n",
       "    <tr>\n",
       "      <th>1148</th>\n",
       "      <td>체육</td>\n",
       "      <td>생활스포츠시설</td>\n",
       "      <td>서울특별시 성동구</td>\n",
       "      <td>4</td>\n",
       "      <td>성동구</td>\n",
       "    </tr>\n",
       "    <tr>\n",
       "      <th>1149</th>\n",
       "      <td>체육</td>\n",
       "      <td>생활스포츠시설</td>\n",
       "      <td>서울특별시 광진구</td>\n",
       "      <td>7</td>\n",
       "      <td>광진구</td>\n",
       "    </tr>\n",
       "  </tbody>\n",
       "</table>\n",
       "</div>"
      ],
      "text/plain": [
       "     LCLAS_NM MLSFC_NM  SIGNGU_NM  FCLTY_CO  자치구\n",
       "1145       체육  생활스포츠시설  서울특별시 종로구        10  종로구\n",
       "1146       체육  생활스포츠시설   서울특별시 중구         9   중구\n",
       "1147       체육  생활스포츠시설  서울특별시 용산구         9  용산구\n",
       "1148       체육  생활스포츠시설  서울특별시 성동구         4  성동구\n",
       "1149       체육  생활스포츠시설  서울특별시 광진구         7  광진구"
      ]
     },
     "execution_count": 15,
     "metadata": {},
     "output_type": "execute_result"
    }
   ],
   "source": [
    "df_seoul_생활스포츠시설 = df_seoul[df_seoul['MLSFC_NM'].str.contains('생활스포츠시설')]\n",
    "df_seoul_생활스포츠시설.head()"
   ]
  },
  {
   "cell_type": "code",
   "execution_count": 16,
   "metadata": {},
   "outputs": [
    {
     "data": {
      "text/plain": [
       "Text(0.5, 1.0, '생활스포츠시설')"
      ]
     },
     "execution_count": 16,
     "metadata": {},
     "output_type": "execute_result"
    },
    {
     "data": {
      "image/png": "[encoded data removed]",
      "text/plain": [
       "<Figure size 1440x576 with 1 Axes>"
      ]
     },
     "metadata": {
      "needs_background": "light"
     },
     "output_type": "display_data"
    }
   ],
   "source": [
    "plt.figure(figsize = (20,8))\n",
    "sns.barplot(x='자치구', y='FCLTY_CO',data=df_seoul_생활스포츠시설)\n",
    "plt.xlabel('자치구')\n",
    "plt.ylabel('시설수')\n",
    "plt.title('생활스포츠시설')"
   ]
  },
  {
   "cell_type": "code",
   "execution_count": 17,
   "metadata": {},
   "outputs": [
    {
     "data": {
      "text/html": [
       "<div>\n",
       "<style scoped>\n",
       "    .dataframe tbody tr th:only-of-type {\n",
       "        vertical-align: middle;\n",
       "    }\n",
       "\n",
       "    .dataframe tbody tr th {\n",
       "        vertical-align: top;\n",
       "    }\n",
       "\n",
       "    .dataframe thead th {\n",
       "        text-align: right;\n",
       "    }\n",
       "</style>\n",
       "<table border=\"1\" class=\"dataframe\">\n",
       "  <thead>\n",
       "    <tr style=\"text-align: right;\">\n",
       "      <th></th>\n",
       "      <th>LCLAS_NM</th>\n",
       "      <th>MLSFC_NM</th>\n",
       "      <th>SIGNGU_NM</th>\n",
       "      <th>FCLTY_CO</th>\n",
       "      <th>자치구</th>\n",
       "    </tr>\n",
       "  </thead>\n",
       "  <tbody>\n",
       "    <tr>\n",
       "      <th>1374</th>\n",
       "      <td>체육</td>\n",
       "      <td>전문스포츠시설</td>\n",
       "      <td>서울특별시 종로구</td>\n",
       "      <td>0</td>\n",
       "      <td>종로구</td>\n",
       "    </tr>\n",
       "    <tr>\n",
       "      <th>1375</th>\n",
       "      <td>체육</td>\n",
       "      <td>전문스포츠시설</td>\n",
       "      <td>서울특별시 중구</td>\n",
       "      <td>0</td>\n",
       "      <td>중구</td>\n",
       "    </tr>\n",
       "    <tr>\n",
       "      <th>1376</th>\n",
       "      <td>체육</td>\n",
       "      <td>전문스포츠시설</td>\n",
       "      <td>서울특별시 용산구</td>\n",
       "      <td>2</td>\n",
       "      <td>용산구</td>\n",
       "    </tr>\n",
       "    <tr>\n",
       "      <th>1377</th>\n",
       "      <td>체육</td>\n",
       "      <td>전문스포츠시설</td>\n",
       "      <td>서울특별시 성동구</td>\n",
       "      <td>0</td>\n",
       "      <td>성동구</td>\n",
       "    </tr>\n",
       "    <tr>\n",
       "      <th>1378</th>\n",
       "      <td>체육</td>\n",
       "      <td>전문스포츠시설</td>\n",
       "      <td>서울특별시 광진구</td>\n",
       "      <td>1</td>\n",
       "      <td>광진구</td>\n",
       "    </tr>\n",
       "  </tbody>\n",
       "</table>\n",
       "</div>"
      ],
      "text/plain": [
       "     LCLAS_NM MLSFC_NM  SIGNGU_NM  FCLTY_CO  자치구\n",
       "1374       체육  전문스포츠시설  서울특별시 종로구         0  종로구\n",
       "1375       체육  전문스포츠시설   서울특별시 중구         0   중구\n",
       "1376       체육  전문스포츠시설  서울특별시 용산구         2  용산구\n",
       "1377       체육  전문스포츠시설  서울특별시 성동구         0  성동구\n",
       "1378       체육  전문스포츠시설  서울특별시 광진구         1  광진구"
      ]
     },
     "execution_count": 17,
     "metadata": {},
     "output_type": "execute_result"
    }
   ],
   "source": [
    "df_seoul_전문스포츠시설 = df_seoul[df_seoul['MLSFC_NM'].str.contains('전문스포츠시설')]\n",
    "df_seoul_전문스포츠시설.head()"
   ]
  },
  {
   "cell_type": "code",
   "execution_count": 18,
   "metadata": {},
   "outputs": [
    {
     "data": {
      "text/plain": [
       "Text(0.5, 1.0, '전문스포츠시설')"
      ]
     },
     "execution_count": 18,
     "metadata": {},
     "output_type": "execute_result"
    },
    {
     "data": {
      "image/png": "[encoded data removed]",
      "text/plain": [
       "<Figure size 1440x576 with 1 Axes>"
      ]
     },
     "metadata": {
      "needs_background": "light"
     },
     "output_type": "display_data"
    }
   ],
   "source": [
    "plt.figure(figsize = (20,8))\n",
    "sns.barplot(x='자치구', y='FCLTY_CO',data=df_seoul_전문스포츠시설)\n",
    "plt.xlabel('자치구')\n",
    "plt.ylabel('시설수')\n",
    "plt.title('전문스포츠시설')"
   ]
  },
  {
   "cell_type": "code",
   "execution_count": 19,
   "metadata": {},
   "outputs": [
    {
     "data": {
      "text/html": [
       "<div>\n",
       "<style scoped>\n",
       "    .dataframe tbody tr th:only-of-type {\n",
       "        vertical-align: middle;\n",
       "    }\n",
       "\n",
       "    .dataframe tbody tr th {\n",
       "        vertical-align: top;\n",
       "    }\n",
       "\n",
       "    .dataframe thead th {\n",
       "        text-align: right;\n",
       "    }\n",
       "</style>\n",
       "<table border=\"1\" class=\"dataframe\">\n",
       "  <thead>\n",
       "    <tr style=\"text-align: right;\">\n",
       "      <th></th>\n",
       "      <th>LCLAS_NM</th>\n",
       "      <th>MLSFC_NM</th>\n",
       "      <th>SIGNGU_NM</th>\n",
       "      <th>FCLTY_CO</th>\n",
       "      <th>자치구</th>\n",
       "    </tr>\n",
       "  </thead>\n",
       "  <tbody>\n",
       "    <tr>\n",
       "      <th>2061</th>\n",
       "      <td>휴식</td>\n",
       "      <td>공원</td>\n",
       "      <td>서울특별시 종로구</td>\n",
       "      <td>85</td>\n",
       "      <td>종로구</td>\n",
       "    </tr>\n",
       "    <tr>\n",
       "      <th>2062</th>\n",
       "      <td>휴식</td>\n",
       "      <td>공원</td>\n",
       "      <td>서울특별시 중구</td>\n",
       "      <td>95</td>\n",
       "      <td>중구</td>\n",
       "    </tr>\n",
       "    <tr>\n",
       "      <th>2063</th>\n",
       "      <td>휴식</td>\n",
       "      <td>공원</td>\n",
       "      <td>서울특별시 용산구</td>\n",
       "      <td>102</td>\n",
       "      <td>용산구</td>\n",
       "    </tr>\n",
       "    <tr>\n",
       "      <th>2064</th>\n",
       "      <td>휴식</td>\n",
       "      <td>공원</td>\n",
       "      <td>서울특별시 성동구</td>\n",
       "      <td>92</td>\n",
       "      <td>성동구</td>\n",
       "    </tr>\n",
       "    <tr>\n",
       "      <th>2065</th>\n",
       "      <td>휴식</td>\n",
       "      <td>공원</td>\n",
       "      <td>서울특별시 광진구</td>\n",
       "      <td>80</td>\n",
       "      <td>광진구</td>\n",
       "    </tr>\n",
       "  </tbody>\n",
       "</table>\n",
       "</div>"
      ],
      "text/plain": [
       "     LCLAS_NM MLSFC_NM  SIGNGU_NM  FCLTY_CO  자치구\n",
       "2061       휴식       공원  서울특별시 종로구        85  종로구\n",
       "2062       휴식       공원   서울특별시 중구        95   중구\n",
       "2063       휴식       공원  서울특별시 용산구       102  용산구\n",
       "2064       휴식       공원  서울특별시 성동구        92  성동구\n",
       "2065       휴식       공원  서울특별시 광진구        80  광진구"
      ]
     },
     "execution_count": 19,
     "metadata": {},
     "output_type": "execute_result"
    }
   ],
   "source": [
    "df_seoul_공원 = df_seoul[df_seoul['MLSFC_NM'].str.contains('공원')]\n",
    "df_seoul_공원.head()"
   ]
  },
  {
   "cell_type": "code",
   "execution_count": 20,
   "metadata": {},
   "outputs": [
    {
     "data": {
      "text/plain": [
       "Text(0.5, 1.0, '공원')"
      ]
     },
     "execution_count": 20,
     "metadata": {},
     "output_type": "execute_result"
    },
    {
     "data": {
      "image/png": "[encoded data removed]",
      "text/plain": [
       "<Figure size 1440x576 with 1 Axes>"
      ]
     },
     "metadata": {
      "needs_background": "light"
     },
     "output_type": "display_data"
    }
   ],
   "source": [
    "plt.figure(figsize = (20,8))\n",
    "sns.barplot(x='자치구', y='FCLTY_CO',data=df_seoul_공원)\n",
    "plt.xlabel('자치구')\n",
    "plt.ylabel('시설수')\n",
    "plt.title('공원')"
   ]
  },
  {
   "cell_type": "code",
   "execution_count": 21,
   "metadata": {},
   "outputs": [
    {
     "data": {
      "text/html": [
       "<div>\n",
       "<style scoped>\n",
       "    .dataframe tbody tr th:only-of-type {\n",
       "        vertical-align: middle;\n",
       "    }\n",
       "\n",
       "    .dataframe tbody tr th {\n",
       "        vertical-align: top;\n",
       "    }\n",
       "\n",
       "    .dataframe thead th {\n",
       "        text-align: right;\n",
       "    }\n",
       "</style>\n",
       "<table border=\"1\" class=\"dataframe\">\n",
       "  <thead>\n",
       "    <tr style=\"text-align: right;\">\n",
       "      <th></th>\n",
       "      <th>LCLAS_NM</th>\n",
       "      <th>MLSFC_NM</th>\n",
       "      <th>SIGNGU_NM</th>\n",
       "      <th>FCLTY_CO</th>\n",
       "      <th>자치구</th>\n",
       "    </tr>\n",
       "  </thead>\n",
       "  <tbody>\n",
       "    <tr>\n",
       "      <th>2290</th>\n",
       "      <td>휴식</td>\n",
       "      <td>관광지</td>\n",
       "      <td>서울특별시 종로구</td>\n",
       "      <td>151</td>\n",
       "      <td>종로구</td>\n",
       "    </tr>\n",
       "    <tr>\n",
       "      <th>2291</th>\n",
       "      <td>휴식</td>\n",
       "      <td>관광지</td>\n",
       "      <td>서울특별시 중구</td>\n",
       "      <td>4</td>\n",
       "      <td>중구</td>\n",
       "    </tr>\n",
       "    <tr>\n",
       "      <th>2292</th>\n",
       "      <td>휴식</td>\n",
       "      <td>관광지</td>\n",
       "      <td>서울특별시 용산구</td>\n",
       "      <td>4</td>\n",
       "      <td>용산구</td>\n",
       "    </tr>\n",
       "    <tr>\n",
       "      <th>2293</th>\n",
       "      <td>휴식</td>\n",
       "      <td>관광지</td>\n",
       "      <td>서울특별시 성동구</td>\n",
       "      <td>4</td>\n",
       "      <td>성동구</td>\n",
       "    </tr>\n",
       "    <tr>\n",
       "      <th>2294</th>\n",
       "      <td>휴식</td>\n",
       "      <td>관광지</td>\n",
       "      <td>서울특별시 광진구</td>\n",
       "      <td>12</td>\n",
       "      <td>광진구</td>\n",
       "    </tr>\n",
       "  </tbody>\n",
       "</table>\n",
       "</div>"
      ],
      "text/plain": [
       "     LCLAS_NM MLSFC_NM  SIGNGU_NM  FCLTY_CO  자치구\n",
       "2290       휴식      관광지  서울특별시 종로구       151  종로구\n",
       "2291       휴식      관광지   서울특별시 중구         4   중구\n",
       "2292       휴식      관광지  서울특별시 용산구         4  용산구\n",
       "2293       휴식      관광지  서울특별시 성동구         4  성동구\n",
       "2294       휴식      관광지  서울특별시 광진구        12  광진구"
      ]
     },
     "execution_count": 21,
     "metadata": {},
     "output_type": "execute_result"
    }
   ],
   "source": [
    "df_seoul_관광지 = df_seoul[df_seoul['MLSFC_NM'].str.contains('관광지')]\n",
    "df_seoul_관광지.head()"
   ]
  },
  {
   "cell_type": "code",
   "execution_count": 22,
   "metadata": {},
   "outputs": [
    {
     "data": {
      "text/plain": [
       "Text(0.5, 1.0, '관광지')"
      ]
     },
     "execution_count": 22,
     "metadata": {},
     "output_type": "execute_result"
    },
    {
     "data": {
      "image/png": "[encoded data removed]",
      "text/plain": [
       "<Figure size 1440x576 with 1 Axes>"
      ]
     },
     "metadata": {
      "needs_background": "light"
     },
     "output_type": "display_data"
    }
   ],
   "source": [
    "plt.figure(figsize = (20,8))\n",
    "sns.barplot(x='자치구', y='FCLTY_CO',data=df_seoul_관광지)\n",
    "plt.xlabel('자치구')\n",
    "plt.ylabel('시설수')\n",
    "plt.title('관광지')"
   ]
  },
  {
   "cell_type": "code",
   "execution_count": 23,
   "metadata": {},
   "outputs": [
    {
     "data": {
      "text/html": [
       "<div>\n",
       "<style scoped>\n",
       "    .dataframe tbody tr th:only-of-type {\n",
       "        vertical-align: middle;\n",
       "    }\n",
       "\n",
       "    .dataframe tbody tr th {\n",
       "        vertical-align: top;\n",
       "    }\n",
       "\n",
       "    .dataframe thead th {\n",
       "        text-align: right;\n",
       "    }\n",
       "</style>\n",
       "<table border=\"1\" class=\"dataframe\">\n",
       "  <thead>\n",
       "    <tr style=\"text-align: right;\">\n",
       "      <th></th>\n",
       "      <th>LCLAS_NM</th>\n",
       "      <th>MLSFC_NM</th>\n",
       "      <th>SIGNGU_NM</th>\n",
       "      <th>FCLTY_CO</th>\n",
       "      <th>자치구</th>\n",
       "    </tr>\n",
       "  </thead>\n",
       "  <tbody>\n",
       "    <tr>\n",
       "      <th>2519</th>\n",
       "      <td>휴식</td>\n",
       "      <td>동/식물원/휴양림</td>\n",
       "      <td>서울특별시 종로구</td>\n",
       "      <td>6</td>\n",
       "      <td>종로구</td>\n",
       "    </tr>\n",
       "    <tr>\n",
       "      <th>2520</th>\n",
       "      <td>휴식</td>\n",
       "      <td>동/식물원/휴양림</td>\n",
       "      <td>서울특별시 중구</td>\n",
       "      <td>6</td>\n",
       "      <td>중구</td>\n",
       "    </tr>\n",
       "    <tr>\n",
       "      <th>2521</th>\n",
       "      <td>휴식</td>\n",
       "      <td>동/식물원/휴양림</td>\n",
       "      <td>서울특별시 용산구</td>\n",
       "      <td>2</td>\n",
       "      <td>용산구</td>\n",
       "    </tr>\n",
       "    <tr>\n",
       "      <th>2522</th>\n",
       "      <td>휴식</td>\n",
       "      <td>동/식물원/휴양림</td>\n",
       "      <td>서울특별시 성동구</td>\n",
       "      <td>1</td>\n",
       "      <td>성동구</td>\n",
       "    </tr>\n",
       "    <tr>\n",
       "      <th>2523</th>\n",
       "      <td>휴식</td>\n",
       "      <td>동/식물원/휴양림</td>\n",
       "      <td>서울특별시 광진구</td>\n",
       "      <td>1</td>\n",
       "      <td>광진구</td>\n",
       "    </tr>\n",
       "  </tbody>\n",
       "</table>\n",
       "</div>"
      ],
      "text/plain": [
       "     LCLAS_NM   MLSFC_NM  SIGNGU_NM  FCLTY_CO  자치구\n",
       "2519       휴식  동/식물원/휴양림  서울특별시 종로구         6  종로구\n",
       "2520       휴식  동/식물원/휴양림   서울특별시 중구         6   중구\n",
       "2521       휴식  동/식물원/휴양림  서울특별시 용산구         2  용산구\n",
       "2522       휴식  동/식물원/휴양림  서울특별시 성동구         1  성동구\n",
       "2523       휴식  동/식물원/휴양림  서울특별시 광진구         1  광진구"
      ]
     },
     "execution_count": 23,
     "metadata": {},
     "output_type": "execute_result"
    }
   ],
   "source": [
    "df_seoul_동식물원휴양림 = df_seoul[df_seoul['MLSFC_NM'].str.contains('동/식물원/휴양림')]\n",
    "df_seoul_동식물원휴양림.head()"
   ]
  },
  {
   "cell_type": "code",
   "execution_count": 24,
   "metadata": {},
   "outputs": [
    {
     "data": {
      "text/plain": [
       "Text(0.5, 1.0, '동/식물원/휴양림')"
      ]
     },
     "execution_count": 24,
     "metadata": {},
     "output_type": "execute_result"
    },
    {
     "data": {
      "image/png": "[encoded data removed]",
      "text/plain": [
       "<Figure size 1440x576 with 1 Axes>"
      ]
     },
     "metadata": {
      "needs_background": "light"
     },
     "output_type": "display_data"
    }
   ],
   "source": [
    "plt.figure(figsize = (20,8))\n",
    "sns.barplot(x='자치구', y='FCLTY_CO',data=df_seoul_동식물원휴양림)\n",
    "plt.xlabel('자치구')\n",
    "plt.ylabel('시설수')\n",
    "plt.title('동/식물원/휴양림')"
   ]
  },
  {
   "cell_type": "code",
   "execution_count": 25,
   "metadata": {},
   "outputs": [
    {
     "data": {
      "text/html": [
       "<div>\n",
       "<style scoped>\n",
       "    .dataframe tbody tr th:only-of-type {\n",
       "        vertical-align: middle;\n",
       "    }\n",
       "\n",
       "    .dataframe tbody tr th {\n",
       "        vertical-align: top;\n",
       "    }\n",
       "\n",
       "    .dataframe thead th {\n",
       "        text-align: right;\n",
       "    }\n",
       "</style>\n",
       "<table border=\"1\" class=\"dataframe\">\n",
       "  <thead>\n",
       "    <tr style=\"text-align: right;\">\n",
       "      <th></th>\n",
       "      <th>LCLAS_NM</th>\n",
       "      <th>MLSFC_NM</th>\n",
       "      <th>SIGNGU_NM</th>\n",
       "      <th>FCLTY_CO</th>\n",
       "      <th>자치구</th>\n",
       "    </tr>\n",
       "  </thead>\n",
       "  <tbody>\n",
       "    <tr>\n",
       "      <th>2748</th>\n",
       "      <td>휴식</td>\n",
       "      <td>휴식시설/서비스</td>\n",
       "      <td>서울특별시 종로구</td>\n",
       "      <td>0</td>\n",
       "      <td>종로구</td>\n",
       "    </tr>\n",
       "    <tr>\n",
       "      <th>2749</th>\n",
       "      <td>휴식</td>\n",
       "      <td>휴식시설/서비스</td>\n",
       "      <td>서울특별시 중구</td>\n",
       "      <td>1</td>\n",
       "      <td>중구</td>\n",
       "    </tr>\n",
       "    <tr>\n",
       "      <th>2750</th>\n",
       "      <td>휴식</td>\n",
       "      <td>휴식시설/서비스</td>\n",
       "      <td>서울특별시 용산구</td>\n",
       "      <td>3</td>\n",
       "      <td>용산구</td>\n",
       "    </tr>\n",
       "    <tr>\n",
       "      <th>2751</th>\n",
       "      <td>휴식</td>\n",
       "      <td>휴식시설/서비스</td>\n",
       "      <td>서울특별시 성동구</td>\n",
       "      <td>0</td>\n",
       "      <td>성동구</td>\n",
       "    </tr>\n",
       "    <tr>\n",
       "      <th>2752</th>\n",
       "      <td>휴식</td>\n",
       "      <td>휴식시설/서비스</td>\n",
       "      <td>서울특별시 광진구</td>\n",
       "      <td>45</td>\n",
       "      <td>광진구</td>\n",
       "    </tr>\n",
       "  </tbody>\n",
       "</table>\n",
       "</div>"
      ],
      "text/plain": [
       "     LCLAS_NM  MLSFC_NM  SIGNGU_NM  FCLTY_CO  자치구\n",
       "2748       휴식  휴식시설/서비스  서울특별시 종로구         0  종로구\n",
       "2749       휴식  휴식시설/서비스   서울특별시 중구         1   중구\n",
       "2750       휴식  휴식시설/서비스  서울특별시 용산구         3  용산구\n",
       "2751       휴식  휴식시설/서비스  서울특별시 성동구         0  성동구\n",
       "2752       휴식  휴식시설/서비스  서울특별시 광진구        45  광진구"
      ]
     },
     "execution_count": 25,
     "metadata": {},
     "output_type": "execute_result"
    }
   ],
   "source": [
    "df_seoul_휴식시설서비스 = df_seoul[df_seoul['MLSFC_NM'].str.contains('휴식시설/서비스')]\n",
    "df_seoul_휴식시설서비스.head()"
   ]
  },
  {
   "cell_type": "code",
   "execution_count": 26,
   "metadata": {},
   "outputs": [
    {
     "data": {
      "text/plain": [
       "Text(0.5, 1.0, '휴식시설/서비스')"
      ]
     },
     "execution_count": 26,
     "metadata": {},
     "output_type": "execute_result"
    },
    {
     "data": {
      "image/png": "[encoded data removed]",
      "text/plain": [
       "<Figure size 1440x576 with 1 Axes>"
      ]
     },
     "metadata": {
      "needs_background": "light"
     },
     "output_type": "display_data"
    }
   ],
   "source": [
    "plt.figure(figsize = (20,8))\n",
    "sns.barplot(x='자치구', y='FCLTY_CO',data=df_seoul_휴식시설서비스)\n",
    "plt.xlabel('자치구')\n",
    "plt.ylabel('시설수')\n",
    "plt.title('휴식시설/서비스')"
   ]
  },
  {
   "cell_type": "code",
   "execution_count": 27,
   "metadata": {},
   "outputs": [
    {
     "data": {
      "text/plain": [
       "Text(0.5, 1.0, '음식소비')"
      ]
     },
     "execution_count": 27,
     "metadata": {},
     "output_type": "execute_result"
    },
    {
     "data": {
      "image/png": "[encoded data removed]",
      "text/plain": [
       "<Figure size 1440x576 with 1 Axes>"
      ]
     },
     "metadata": {
      "needs_background": "light"
     },
     "output_type": "display_data"
    }
   ],
   "source": [
    "df_seoul_음식소비 = df_seoul[df_seoul['MLSFC_NM'].str.contains('음식소비')]\n",
    "plt.figure(figsize = (20,8))\n",
    "sns.barplot(x='자치구', y='FCLTY_CO',data=df_seoul_음식소비)\n",
    "plt.xlabel('자치구')\n",
    "plt.ylabel('시설수')\n",
    "plt.title('음식소비')"
   ]
  },
  {
   "cell_type": "code",
   "execution_count": 28,
   "metadata": {},
   "outputs": [
    {
     "data": {
      "text/plain": [
       "Text(0.5, 1.0, '패션/미용소비')"
      ]
     },
     "execution_count": 28,
     "metadata": {},
     "output_type": "execute_result"
    },
    {
     "data": {
      "image/png": "[encoded data removed]",
      "text/plain": [
       "<Figure size 1440x576 with 1 Axes>"
      ]
     },
     "metadata": {
      "needs_background": "light"
     },
     "output_type": "display_data"
    }
   ],
   "source": [
    "df_seoul_패션미용소비 = df_seoul[df_seoul['MLSFC_NM'].str.contains('패션/미용소비')]\n",
    "plt.figure(figsize = (20,8))\n",
    "sns.barplot(x='자치구', y='FCLTY_CO',data=df_seoul_패션미용소비)\n",
    "plt.xlabel('자치구')\n",
    "plt.ylabel('시설수')\n",
    "plt.title('패션/미용소비')"
   ]
  },
  {
   "cell_type": "code",
   "execution_count": null,
   "metadata": {},
   "outputs": [],
   "source": []
  }
 ],
 "metadata": {
  "kernelspec": {
   "display_name": "Python 3",
   "language": "python",
   "name": "python3"
  },
  "language_info": {
   "codemirror_mode": {
    "name": "ipython",
    "version": 3
   },
   "file_extension": ".py",
   "mimetype": "text/x-python",
   "name": "python",
   "nbconvert_exporter": "python",
   "pygments_lexer": "ipython3",
   "version": "3.10.4"
  },
  "orig_nbformat": 4
 },
 "nbformat": 4,
 "nbformat_minor": 2
}
