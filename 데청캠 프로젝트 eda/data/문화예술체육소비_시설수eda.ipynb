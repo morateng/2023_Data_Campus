{
 "cells": [
  {
   "cell_type": "code",
   "execution_count": null,
   "metadata": {},
   "outputs": [],
   "source": [
    "import pandas as pd"
   ]
  },
  {
   "cell_type": "code",
   "execution_count": null,
   "metadata": {},
   "outputs": [],
   "source": [
    "df = pd.read_csv('../data/문화예술체육소비시군구별시설수.csv')"
   ]
  },
  {
   "cell_type": "code",
   "execution_count": null,
   "metadata": {},
   "outputs": [],
   "source": [
    "df.head()"
   ]
  },
  {
   "cell_type": "code",
   "execution_count": null,
   "metadata": {},
   "outputs": [],
   "source": [
    "df.describe()"
   ]
  },
  {
   "cell_type": "code",
   "execution_count": null,
   "metadata": {},
   "outputs": [],
   "source": [
    "df_seoul = df[df['SIGNGU_NM'].str.contains('서울특별시')]\n",
    "df_seoul['자치구'] = df_seoul['SIGNGU_NM'].str.split().str[1]\n",
    "df_seoul"
   ]
  },
  {
   "cell_type": "code",
   "execution_count": null,
   "metadata": {},
   "outputs": [],
   "source": [
    "import matplotlib.pyplot as plt\n",
    "import seaborn as sns\n",
    "\n",
    "df_seoul['MLSFC_NM'].unique()\n",
    "df_seoul_공연시설 = df_seoul[df_seoul['MLSFC_NM'].str.contains('공연시설')]\n",
    "df_seoul_공연시설"
   ]
  },
  {
   "cell_type": "code",
   "execution_count": 40,
   "metadata": {},
   "outputs": [
    {
     "data": {
      "text/plain": [
       "array(['공연시설', '전시시설', '지역문화시설', '학교/교육기관', '문화예술서비스', '생활스포츠시설',\n",
       "       '전문스포츠시설', '스포츠서비스업', '공원', '관광지', '동/식물원/휴양림', '휴식시설/서비스', '음식소비',\n",
       "       '패션/미용소비', '개인/생활용품소비', '대형소비시설', '기타소비'], dtype=object)"
      ]
     },
     "execution_count": 40,
     "metadata": {},
     "output_type": "execute_result"
    }
   ],
   "source": [
    "df_seoul['MLSFC_NM'].unique()"
   ]
  },
  {
   "cell_type": "code",
   "execution_count": null,
   "metadata": {},
   "outputs": [],
   "source": [
    "plt.rcParams['font.family'] = 'Malgun Gothic'\n",
    "plt.figure(figsize = (20,8))\n",
    "\n",
    "sns.barplot(x='자치구', y='FCLTY_CO',data=df_seoul_공연시설)\n",
    "plt.xlabel('자치구')\n",
    "plt.ylabel('시설수')\n",
    "plt.title('공연시설수')"
   ]
  },
  {
   "cell_type": "code",
   "execution_count": null,
   "metadata": {},
   "outputs": [],
   "source": [
    "df_seoul_전시시설 = df_seoul[df_seoul['MLSFC_NM'].str.contains('전시시설')]\n",
    "df_seoul_전시시설"
   ]
  },
  {
   "cell_type": "code",
   "execution_count": null,
   "metadata": {},
   "outputs": [],
   "source": [
    "plt.figure(figsize = (20,8))\n",
    "sns.barplot(x='자치구', y='FCLTY_CO',data=df_seoul_전시시설)\n",
    "plt.xlabel('자치구')\n",
    "plt.ylabel('시설수')\n",
    "plt.title('전시시설수')"
   ]
  },
  {
   "cell_type": "code",
   "execution_count": null,
   "metadata": {},
   "outputs": [],
   "source": [
    "df_seoul_지역문화시설 = df_seoul[df_seoul['MLSFC_NM'].str.contains('지역문화시설')]\n",
    "df_seoul_지역문화시설.head()"
   ]
  },
  {
   "cell_type": "code",
   "execution_count": null,
   "metadata": {},
   "outputs": [],
   "source": [
    "plt.figure(figsize = (20,8))\n",
    "sns.barplot(x='자치구', y='FCLTY_CO',data=df_seoul_지역문화시설)\n",
    "plt.xlabel('자치구')\n",
    "plt.ylabel('시설수')\n",
    "plt.title('지역문화시설')"
   ]
  },
  {
   "cell_type": "code",
   "execution_count": null,
   "metadata": {},
   "outputs": [],
   "source": [
    "df_seoul_문화예술서비스 = df_seoul[df_seoul['MLSFC_NM'].str.contains('문화예술서비스')]\n",
    "df_seoul_문화예술서비스.head()"
   ]
  },
  {
   "cell_type": "code",
   "execution_count": null,
   "metadata": {},
   "outputs": [],
   "source": [
    "plt.figure(figsize = (20,8))\n",
    "sns.barplot(x='자치구', y='FCLTY_CO',data=df_seoul_문화예술서비스)\n",
    "plt.xlabel('자치구')\n",
    "plt.ylabel('시설수')\n",
    "plt.title('문화예술서비스')"
   ]
  },
  {
   "cell_type": "code",
   "execution_count": 39,
   "metadata": {},
   "outputs": [
    {
     "data": {
      "text/html": [
       "<div>\n",
       "<style scoped>\n",
       "    .dataframe tbody tr th:only-of-type {\n",
       "        vertical-align: middle;\n",
       "    }\n",
       "\n",
       "    .dataframe tbody tr th {\n",
       "        vertical-align: top;\n",
       "    }\n",
       "\n",
       "    .dataframe thead th {\n",
       "        text-align: right;\n",
       "    }\n",
       "</style>\n",
       "<table border=\"1\" class=\"dataframe\">\n",
       "  <thead>\n",
       "    <tr style=\"text-align: right;\">\n",
       "      <th></th>\n",
       "      <th>LCLAS_NM</th>\n",
       "      <th>MLSFC_NM</th>\n",
       "      <th>SIGNGU_NM</th>\n",
       "      <th>FCLTY_CO</th>\n",
       "      <th>자치구</th>\n",
       "    </tr>\n",
       "  </thead>\n",
       "  <tbody>\n",
       "    <tr>\n",
       "      <th>1145</th>\n",
       "      <td>체육</td>\n",
       "      <td>생활스포츠시설</td>\n",
       "      <td>서울특별시 종로구</td>\n",
       "      <td>10</td>\n",
       "      <td>종로구</td>\n",
       "    </tr>\n",
       "    <tr>\n",
       "      <th>1146</th>\n",
       "      <td>체육</td>\n",
       "      <td>생활스포츠시설</td>\n",
       "      <td>서울특별시 중구</td>\n",
       "      <td>9</td>\n",
       "      <td>중구</td>\n",
       "    </tr>\n",
       "    <tr>\n",
       "      <th>1147</th>\n",
       "      <td>체육</td>\n",
       "      <td>생활스포츠시설</td>\n",
       "      <td>서울특별시 용산구</td>\n",
       "      <td>9</td>\n",
       "      <td>용산구</td>\n",
       "    </tr>\n",
       "    <tr>\n",
       "      <th>1148</th>\n",
       "      <td>체육</td>\n",
       "      <td>생활스포츠시설</td>\n",
       "      <td>서울특별시 성동구</td>\n",
       "      <td>4</td>\n",
       "      <td>성동구</td>\n",
       "    </tr>\n",
       "    <tr>\n",
       "      <th>1149</th>\n",
       "      <td>체육</td>\n",
       "      <td>생활스포츠시설</td>\n",
       "      <td>서울특별시 광진구</td>\n",
       "      <td>7</td>\n",
       "      <td>광진구</td>\n",
       "    </tr>\n",
       "  </tbody>\n",
       "</table>\n",
       "</div>"
      ],
      "text/plain": [
       "     LCLAS_NM MLSFC_NM  SIGNGU_NM  FCLTY_CO  자치구\n",
       "1145       체육  생활스포츠시설  서울특별시 종로구        10  종로구\n",
       "1146       체육  생활스포츠시설   서울특별시 중구         9   중구\n",
       "1147       체육  생활스포츠시설  서울특별시 용산구         9  용산구\n",
       "1148       체육  생활스포츠시설  서울특별시 성동구         4  성동구\n",
       "1149       체육  생활스포츠시설  서울특별시 광진구         7  광진구"
      ]
     },
     "execution_count": 39,
     "metadata": {},
     "output_type": "execute_result"
    }
   ],
   "source": [
    "df_seoul_생활스포츠시설 = df_seoul[df_seoul['MLSFC_NM'].str.contains('생활스포츠시설')]\n",
    "df_seoul_생활스포츠시설.head()"
   ]
  },
  {
   "cell_type": "code",
   "execution_count": 38,
   "metadata": {},
   "outputs": [
    {
     "data": {
      "text/plain": [
       "Text(0.5, 1.0, '생활스포츠시설')"
      ]
     },
     "execution_count": 38,
     "metadata": {},
     "output_type": "execute_result"
    },
    {
     "data": {
      "image/png": "[encoded data removed]",
      "text/plain": [
       "<Figure size 1440x576 with 1 Axes>"
      ]
     },
     "metadata": {
      "needs_background": "light"
     },
     "output_type": "display_data"
    }
   ],
   "source": [
    "plt.figure(figsize = (20,8))\n",
    "sns.barplot(x='자치구', y='FCLTY_CO',data=df_seoul_생활스포츠시설)\n",
    "plt.xlabel('자치구')\n",
    "plt.ylabel('시설수')\n",
    "plt.title('생활스포츠시설')"
   ]
  },
  {
   "cell_type": "code",
   "execution_count": 41,
   "metadata": {},
   "outputs": [
    {
     "data": {
      "text/html": [
       "<div>\n",
       "<style scoped>\n",
       "    .dataframe tbody tr th:only-of-type {\n",
       "        vertical-align: middle;\n",
       "    }\n",
       "\n",
       "    .dataframe tbody tr th {\n",
       "        vertical-align: top;\n",
       "    }\n",
       "\n",
       "    .dataframe thead th {\n",
       "        text-align: right;\n",
       "    }\n",
       "</style>\n",
       "<table border=\"1\" class=\"dataframe\">\n",
       "  <thead>\n",
       "    <tr style=\"text-align: right;\">\n",
       "      <th></th>\n",
       "      <th>LCLAS_NM</th>\n",
       "      <th>MLSFC_NM</th>\n",
       "      <th>SIGNGU_NM</th>\n",
       "      <th>FCLTY_CO</th>\n",
       "      <th>자치구</th>\n",
       "    </tr>\n",
       "  </thead>\n",
       "  <tbody>\n",
       "    <tr>\n",
       "      <th>1374</th>\n",
       "      <td>체육</td>\n",
       "      <td>전문스포츠시설</td>\n",
       "      <td>서울특별시 종로구</td>\n",
       "      <td>0</td>\n",
       "      <td>종로구</td>\n",
       "    </tr>\n",
       "    <tr>\n",
       "      <th>1375</th>\n",
       "      <td>체육</td>\n",
       "      <td>전문스포츠시설</td>\n",
       "      <td>서울특별시 중구</td>\n",
       "      <td>0</td>\n",
       "      <td>중구</td>\n",
       "    </tr>\n",
       "    <tr>\n",
       "      <th>1376</th>\n",
       "      <td>체육</td>\n",
       "      <td>전문스포츠시설</td>\n",
       "      <td>서울특별시 용산구</td>\n",
       "      <td>2</td>\n",
       "      <td>용산구</td>\n",
       "    </tr>\n",
       "    <tr>\n",
       "      <th>1377</th>\n",
       "      <td>체육</td>\n",
       "      <td>전문스포츠시설</td>\n",
       "      <td>서울특별시 성동구</td>\n",
       "      <td>0</td>\n",
       "      <td>성동구</td>\n",
       "    </tr>\n",
       "    <tr>\n",
       "      <th>1378</th>\n",
       "      <td>체육</td>\n",
       "      <td>전문스포츠시설</td>\n",
       "      <td>서울특별시 광진구</td>\n",
       "      <td>1</td>\n",
       "      <td>광진구</td>\n",
       "    </tr>\n",
       "  </tbody>\n",
       "</table>\n",
       "</div>"
      ],
      "text/plain": [
       "     LCLAS_NM MLSFC_NM  SIGNGU_NM  FCLTY_CO  자치구\n",
       "1374       체육  전문스포츠시설  서울특별시 종로구         0  종로구\n",
       "1375       체육  전문스포츠시설   서울특별시 중구         0   중구\n",
       "1376       체육  전문스포츠시설  서울특별시 용산구         2  용산구\n",
       "1377       체육  전문스포츠시설  서울특별시 성동구         0  성동구\n",
       "1378       체육  전문스포츠시설  서울특별시 광진구         1  광진구"
      ]
     },
     "execution_count": 41,
     "metadata": {},
     "output_type": "execute_result"
    }
   ],
   "source": [
    "df_seoul_전문스포츠시설 = df_seoul[df_seoul['MLSFC_NM'].str.contains('전문스포츠시설')]\n",
    "df_seoul_전문스포츠시설.head()"
   ]
  },
  {
   "cell_type": "code",
   "execution_count": 42,
   "metadata": {},
   "outputs": [
    {
     "data": {
      "text/plain": [
       "Text(0.5, 1.0, '전문스포츠시설')"
      ]
     },
     "execution_count": 42,
     "metadata": {},
     "output_type": "execute_result"
    },
    {
     "data": {
      "image/png": "[encoded data removed]",
      "text/plain": [
       "<Figure size 1440x576 with 1 Axes>"
      ]
     },
     "metadata": {
      "needs_background": "light"
     },
     "output_type": "display_data"
    }
   ],
   "source": [
    "plt.figure(figsize = (20,8))\n",
    "sns.barplot(x='자치구', y='FCLTY_CO',data=df_seoul_전문스포츠시설)\n",
    "plt.xlabel('자치구')\n",
    "plt.ylabel('시설수')\n",
    "plt.title('전문스포츠시설')"
   ]
  },
  {
   "cell_type": "code",
   "execution_count": 43,
   "metadata": {},
   "outputs": [
    {
     "data": {
      "text/html": [
       "<div>\n",
       "<style scoped>\n",
       "    .dataframe tbody tr th:only-of-type {\n",
       "        vertical-align: middle;\n",
       "    }\n",
       "\n",
       "    .dataframe tbody tr th {\n",
       "        vertical-align: top;\n",
       "    }\n",
       "\n",
       "    .dataframe thead th {\n",
       "        text-align: right;\n",
       "    }\n",
       "</style>\n",
       "<table border=\"1\" class=\"dataframe\">\n",
       "  <thead>\n",
       "    <tr style=\"text-align: right;\">\n",
       "      <th></th>\n",
       "      <th>LCLAS_NM</th>\n",
       "      <th>MLSFC_NM</th>\n",
       "      <th>SIGNGU_NM</th>\n",
       "      <th>FCLTY_CO</th>\n",
       "      <th>자치구</th>\n",
       "    </tr>\n",
       "  </thead>\n",
       "  <tbody>\n",
       "    <tr>\n",
       "      <th>2061</th>\n",
       "      <td>휴식</td>\n",
       "      <td>공원</td>\n",
       "      <td>서울특별시 종로구</td>\n",
       "      <td>85</td>\n",
       "      <td>종로구</td>\n",
       "    </tr>\n",
       "    <tr>\n",
       "      <th>2062</th>\n",
       "      <td>휴식</td>\n",
       "      <td>공원</td>\n",
       "      <td>서울특별시 중구</td>\n",
       "      <td>95</td>\n",
       "      <td>중구</td>\n",
       "    </tr>\n",
       "    <tr>\n",
       "      <th>2063</th>\n",
       "      <td>휴식</td>\n",
       "      <td>공원</td>\n",
       "      <td>서울특별시 용산구</td>\n",
       "      <td>102</td>\n",
       "      <td>용산구</td>\n",
       "    </tr>\n",
       "    <tr>\n",
       "      <th>2064</th>\n",
       "      <td>휴식</td>\n",
       "      <td>공원</td>\n",
       "      <td>서울특별시 성동구</td>\n",
       "      <td>92</td>\n",
       "      <td>성동구</td>\n",
       "    </tr>\n",
       "    <tr>\n",
       "      <th>2065</th>\n",
       "      <td>휴식</td>\n",
       "      <td>공원</td>\n",
       "      <td>서울특별시 광진구</td>\n",
       "      <td>80</td>\n",
       "      <td>광진구</td>\n",
       "    </tr>\n",
       "  </tbody>\n",
       "</table>\n",
       "</div>"
      ],
      "text/plain": [
       "     LCLAS_NM MLSFC_NM  SIGNGU_NM  FCLTY_CO  자치구\n",
       "2061       휴식       공원  서울특별시 종로구        85  종로구\n",
       "2062       휴식       공원   서울특별시 중구        95   중구\n",
       "2063       휴식       공원  서울특별시 용산구       102  용산구\n",
       "2064       휴식       공원  서울특별시 성동구        92  성동구\n",
       "2065       휴식       공원  서울특별시 광진구        80  광진구"
      ]
     },
     "execution_count": 43,
     "metadata": {},
     "output_type": "execute_result"
    }
   ],
   "source": [
    "df_seoul_공원 = df_seoul[df_seoul['MLSFC_NM'].str.contains('공원')]\n",
    "df_seoul_공원.head()"
   ]
  },
  {
   "cell_type": "code",
   "execution_count": 44,
   "metadata": {},
   "outputs": [
    {
     "data": {
      "text/plain": [
       "Text(0.5, 1.0, '공원')"
      ]
     },
     "execution_count": 44,
     "metadata": {},
     "output_type": "execute_result"
    },
    {
     "data": {
      "image/png": "[encoded data removed]",
      "text/plain": [
       "<Figure size 1440x576 with 1 Axes>"
      ]
     },
     "metadata": {
      "needs_background": "light"
     },
     "output_type": "display_data"
    }
   ],
   "source": [
    "plt.figure(figsize = (20,8))\n",
    "sns.barplot(x='자치구', y='FCLTY_CO',data=df_seoul_공원)\n",
    "plt.xlabel('자치구')\n",
    "plt.ylabel('시설수')\n",
    "plt.title('공원')"
   ]
  },
  {
   "cell_type": "code",
   "execution_count": 45,
   "metadata": {},
   "outputs": [
    {
     "data": {
      "text/html": [
       "<div>\n",
       "<style scoped>\n",
       "    .dataframe tbody tr th:only-of-type {\n",
       "        vertical-align: middle;\n",
       "    }\n",
       "\n",
       "    .dataframe tbody tr th {\n",
       "        vertical-align: top;\n",
       "    }\n",
       "\n",
       "    .dataframe thead th {\n",
       "        text-align: right;\n",
       "    }\n",
       "</style>\n",
       "<table border=\"1\" class=\"dataframe\">\n",
       "  <thead>\n",
       "    <tr style=\"text-align: right;\">\n",
       "      <th></th>\n",
       "      <th>LCLAS_NM</th>\n",
       "      <th>MLSFC_NM</th>\n",
       "      <th>SIGNGU_NM</th>\n",
       "      <th>FCLTY_CO</th>\n",
       "      <th>자치구</th>\n",
       "    </tr>\n",
       "  </thead>\n",
       "  <tbody>\n",
       "    <tr>\n",
       "      <th>2290</th>\n",
       "      <td>휴식</td>\n",
       "      <td>관광지</td>\n",
       "      <td>서울특별시 종로구</td>\n",
       "      <td>151</td>\n",
       "      <td>종로구</td>\n",
       "    </tr>\n",
       "    <tr>\n",
       "      <th>2291</th>\n",
       "      <td>휴식</td>\n",
       "      <td>관광지</td>\n",
       "      <td>서울특별시 중구</td>\n",
       "      <td>4</td>\n",
       "      <td>중구</td>\n",
       "    </tr>\n",
       "    <tr>\n",
       "      <th>2292</th>\n",
       "      <td>휴식</td>\n",
       "      <td>관광지</td>\n",
       "      <td>서울특별시 용산구</td>\n",
       "      <td>4</td>\n",
       "      <td>용산구</td>\n",
       "    </tr>\n",
       "    <tr>\n",
       "      <th>2293</th>\n",
       "      <td>휴식</td>\n",
       "      <td>관광지</td>\n",
       "      <td>서울특별시 성동구</td>\n",
       "      <td>4</td>\n",
       "      <td>성동구</td>\n",
       "    </tr>\n",
       "    <tr>\n",
       "      <th>2294</th>\n",
       "      <td>휴식</td>\n",
       "      <td>관광지</td>\n",
       "      <td>서울특별시 광진구</td>\n",
       "      <td>12</td>\n",
       "      <td>광진구</td>\n",
       "    </tr>\n",
       "  </tbody>\n",
       "</table>\n",
       "</div>"
      ],
      "text/plain": [
       "     LCLAS_NM MLSFC_NM  SIGNGU_NM  FCLTY_CO  자치구\n",
       "2290       휴식      관광지  서울특별시 종로구       151  종로구\n",
       "2291       휴식      관광지   서울특별시 중구         4   중구\n",
       "2292       휴식      관광지  서울특별시 용산구         4  용산구\n",
       "2293       휴식      관광지  서울특별시 성동구         4  성동구\n",
       "2294       휴식      관광지  서울특별시 광진구        12  광진구"
      ]
     },
     "execution_count": 45,
     "metadata": {},
     "output_type": "execute_result"
    }
   ],
   "source": [
    "df_seoul_관광지 = df_seoul[df_seoul['MLSFC_NM'].str.contains('관광지')]\n",
    "df_seoul_관광지.head()"
   ]
  },
  {
   "cell_type": "code",
   "execution_count": 47,
   "metadata": {},
   "outputs": [
    {
     "data": {
      "text/plain": [
       "Text(0.5, 1.0, '관광지')"
      ]
     },
     "execution_count": 47,
     "metadata": {},
     "output_type": "execute_result"
    },
    {
     "data": {
      "image/png": "[encoded data removed]",
      "text/plain": [
       "<Figure size 1440x576 with 1 Axes>"
      ]
     },
     "metadata": {
      "needs_background": "light"
     },
     "output_type": "display_data"
    }
   ],
   "source": [
    "plt.figure(figsize = (20,8))\n",
    "sns.barplot(x='자치구', y='FCLTY_CO',data=df_seoul_관광지)\n",
    "plt.xlabel('자치구')\n",
    "plt.ylabel('시설수')\n",
    "plt.title('관광지')"
   ]
  },
  {
   "cell_type": "code",
   "execution_count": 48,
   "metadata": {},
   "outputs": [
    {
     "data": {
      "text/html": [
       "<div>\n",
       "<style scoped>\n",
       "    .dataframe tbody tr th:only-of-type {\n",
       "        vertical-align: middle;\n",
       "    }\n",
       "\n",
       "    .dataframe tbody tr th {\n",
       "        vertical-align: top;\n",
       "    }\n",
       "\n",
       "    .dataframe thead th {\n",
       "        text-align: right;\n",
       "    }\n",
       "</style>\n",
       "<table border=\"1\" class=\"dataframe\">\n",
       "  <thead>\n",
       "    <tr style=\"text-align: right;\">\n",
       "      <th></th>\n",
       "      <th>LCLAS_NM</th>\n",
       "      <th>MLSFC_NM</th>\n",
       "      <th>SIGNGU_NM</th>\n",
       "      <th>FCLTY_CO</th>\n",
       "      <th>자치구</th>\n",
       "    </tr>\n",
       "  </thead>\n",
       "  <tbody>\n",
       "    <tr>\n",
       "      <th>2519</th>\n",
       "      <td>휴식</td>\n",
       "      <td>동/식물원/휴양림</td>\n",
       "      <td>서울특별시 종로구</td>\n",
       "      <td>6</td>\n",
       "      <td>종로구</td>\n",
       "    </tr>\n",
       "    <tr>\n",
       "      <th>2520</th>\n",
       "      <td>휴식</td>\n",
       "      <td>동/식물원/휴양림</td>\n",
       "      <td>서울특별시 중구</td>\n",
       "      <td>6</td>\n",
       "      <td>중구</td>\n",
       "    </tr>\n",
       "    <tr>\n",
       "      <th>2521</th>\n",
       "      <td>휴식</td>\n",
       "      <td>동/식물원/휴양림</td>\n",
       "      <td>서울특별시 용산구</td>\n",
       "      <td>2</td>\n",
       "      <td>용산구</td>\n",
       "    </tr>\n",
       "    <tr>\n",
       "      <th>2522</th>\n",
       "      <td>휴식</td>\n",
       "      <td>동/식물원/휴양림</td>\n",
       "      <td>서울특별시 성동구</td>\n",
       "      <td>1</td>\n",
       "      <td>성동구</td>\n",
       "    </tr>\n",
       "    <tr>\n",
       "      <th>2523</th>\n",
       "      <td>휴식</td>\n",
       "      <td>동/식물원/휴양림</td>\n",
       "      <td>서울특별시 광진구</td>\n",
       "      <td>1</td>\n",
       "      <td>광진구</td>\n",
       "    </tr>\n",
       "  </tbody>\n",
       "</table>\n",
       "</div>"
      ],
      "text/plain": [
       "     LCLAS_NM   MLSFC_NM  SIGNGU_NM  FCLTY_CO  자치구\n",
       "2519       휴식  동/식물원/휴양림  서울특별시 종로구         6  종로구\n",
       "2520       휴식  동/식물원/휴양림   서울특별시 중구         6   중구\n",
       "2521       휴식  동/식물원/휴양림  서울특별시 용산구         2  용산구\n",
       "2522       휴식  동/식물원/휴양림  서울특별시 성동구         1  성동구\n",
       "2523       휴식  동/식물원/휴양림  서울특별시 광진구         1  광진구"
      ]
     },
     "execution_count": 48,
     "metadata": {},
     "output_type": "execute_result"
    }
   ],
   "source": [
    "df_seoul_동식물원휴양림 = df_seoul[df_seoul['MLSFC_NM'].str.contains('동/식물원/휴양림')]\n",
    "df_seoul_동식물원휴양림.head()"
   ]
  },
  {
   "cell_type": "code",
   "execution_count": 49,
   "metadata": {},
   "outputs": [
    {
     "data": {
      "text/plain": [
       "Text(0.5, 1.0, '동/식물원/휴양림')"
      ]
     },
     "execution_count": 49,
     "metadata": {},
     "output_type": "execute_result"
    },
    {
     "data": {
      "image/png": "[encoded data removed]",
      "text/plain": [
       "<Figure size 1440x576 with 1 Axes>"
      ]
     },
     "metadata": {
      "needs_background": "light"
     },
     "output_type": "display_data"
    }
   ],
   "source": [
    "plt.figure(figsize = (20,8))\n",
    "sns.barplot(x='자치구', y='FCLTY_CO',data=df_seoul_동식물원휴양림)\n",
    "plt.xlabel('자치구')\n",
    "plt.ylabel('시설수')\n",
    "plt.title('동/식물원/휴양림')"
   ]
  },
  {
   "cell_type": "code",
   "execution_count": 50,
   "metadata": {},
   "outputs": [
    {
     "data": {
      "text/html": [
       "<div>\n",
       "<style scoped>\n",
       "    .dataframe tbody tr th:only-of-type {\n",
       "        vertical-align: middle;\n",
       "    }\n",
       "\n",
       "    .dataframe tbody tr th {\n",
       "        vertical-align: top;\n",
       "    }\n",
       "\n",
       "    .dataframe thead th {\n",
       "        text-align: right;\n",
       "    }\n",
       "</style>\n",
       "<table border=\"1\" class=\"dataframe\">\n",
       "  <thead>\n",
       "    <tr style=\"text-align: right;\">\n",
       "      <th></th>\n",
       "      <th>LCLAS_NM</th>\n",
       "      <th>MLSFC_NM</th>\n",
       "      <th>SIGNGU_NM</th>\n",
       "      <th>FCLTY_CO</th>\n",
       "      <th>자치구</th>\n",
       "    </tr>\n",
       "  </thead>\n",
       "  <tbody>\n",
       "    <tr>\n",
       "      <th>2748</th>\n",
       "      <td>휴식</td>\n",
       "      <td>휴식시설/서비스</td>\n",
       "      <td>서울특별시 종로구</td>\n",
       "      <td>0</td>\n",
       "      <td>종로구</td>\n",
       "    </tr>\n",
       "    <tr>\n",
       "      <th>2749</th>\n",
       "      <td>휴식</td>\n",
       "      <td>휴식시설/서비스</td>\n",
       "      <td>서울특별시 중구</td>\n",
       "      <td>1</td>\n",
       "      <td>중구</td>\n",
       "    </tr>\n",
       "    <tr>\n",
       "      <th>2750</th>\n",
       "      <td>휴식</td>\n",
       "      <td>휴식시설/서비스</td>\n",
       "      <td>서울특별시 용산구</td>\n",
       "      <td>3</td>\n",
       "      <td>용산구</td>\n",
       "    </tr>\n",
       "    <tr>\n",
       "      <th>2751</th>\n",
       "      <td>휴식</td>\n",
       "      <td>휴식시설/서비스</td>\n",
       "      <td>서울특별시 성동구</td>\n",
       "      <td>0</td>\n",
       "      <td>성동구</td>\n",
       "    </tr>\n",
       "    <tr>\n",
       "      <th>2752</th>\n",
       "      <td>휴식</td>\n",
       "      <td>휴식시설/서비스</td>\n",
       "      <td>서울특별시 광진구</td>\n",
       "      <td>45</td>\n",
       "      <td>광진구</td>\n",
       "    </tr>\n",
       "  </tbody>\n",
       "</table>\n",
       "</div>"
      ],
      "text/plain": [
       "     LCLAS_NM  MLSFC_NM  SIGNGU_NM  FCLTY_CO  자치구\n",
       "2748       휴식  휴식시설/서비스  서울특별시 종로구         0  종로구\n",
       "2749       휴식  휴식시설/서비스   서울특별시 중구         1   중구\n",
       "2750       휴식  휴식시설/서비스  서울특별시 용산구         3  용산구\n",
       "2751       휴식  휴식시설/서비스  서울특별시 성동구         0  성동구\n",
       "2752       휴식  휴식시설/서비스  서울특별시 광진구        45  광진구"
      ]
     },
     "execution_count": 50,
     "metadata": {},
     "output_type": "execute_result"
    }
   ],
   "source": [
    "df_seoul_휴식시설서비스 = df_seoul[df_seoul['MLSFC_NM'].str.contains('휴식시설/서비스')]\n",
    "df_seoul_휴식시설서비스.head()"
   ]
  },
  {
   "cell_type": "code",
   "execution_count": 51,
   "metadata": {},
   "outputs": [
    {
     "data": {
      "text/plain": [
       "Text(0.5, 1.0, '휴식시설/서비스')"
      ]
     },
     "execution_count": 51,
     "metadata": {},
     "output_type": "execute_result"
    },
    {
     "data": {
      "image/png": "[encoded data removed]",
      "text/plain": [
       "<Figure size 1440x576 with 1 Axes>"
      ]
     },
     "metadata": {
      "needs_background": "light"
     },
     "output_type": "display_data"
    }
   ],
   "source": [
    "plt.figure(figsize = (20,8))\n",
    "sns.barplot(x='자치구', y='FCLTY_CO',data=df_seoul_휴식시설서비스)\n",
    "plt.xlabel('자치구')\n",
    "plt.ylabel('시설수')\n",
    "plt.title('휴식시설/서비스')"
   ]
  },
  {
   "cell_type": "code",
   "execution_count": 55,
   "metadata": {},
   "outputs": [
    {
     "data": {
      "text/plain": [
       "Text(0.5, 1.0, '음식소비')"
      ]
     },
     "execution_count": 55,
     "metadata": {},
     "output_type": "execute_result"
    },
    {
     "data": {
      "image/png": "[encoded data removed]",
      "text/plain": [
       "<Figure size 1440x576 with 1 Axes>"
      ]
     },
     "metadata": {
      "needs_background": "light"
     },
     "output_type": "display_data"
    }
   ],
   "source": [
    "df_seoul_음식소비 = df_seoul[df_seoul['MLSFC_NM'].str.contains('음식소비')]\n",
    "plt.figure(figsize = (20,8))\n",
    "sns.barplot(x='자치구', y='FCLTY_CO',data=df_seoul_음식소비)\n",
    "plt.xlabel('자치구')\n",
    "plt.ylabel('시설수')\n",
    "plt.title('음식소비')"
   ]
  },
  {
   "cell_type": "code",
   "execution_count": 56,
   "metadata": {},
   "outputs": [
    {
     "data": {
      "text/plain": [
       "Text(0.5, 1.0, '패션/미용소비')"
      ]
     },
     "execution_count": 56,
     "metadata": {},
     "output_type": "execute_result"
    },
    {
     "data": {
      "image/png": "[encoded data removed]",
      "text/plain": [
       "<Figure size 1440x576 with 1 Axes>"
      ]
     },
     "metadata": {
      "needs_background": "light"
     },
     "output_type": "display_data"
    }
   ],
   "source": [
    "df_seoul_패션미용소비 = df_seoul[df_seoul['MLSFC_NM'].str.contains('패션/미용소비')]\n",
    "plt.figure(figsize = (20,8))\n",
    "sns.barplot(x='자치구', y='FCLTY_CO',data=df_seoul_패션미용소비)\n",
    "plt.xlabel('자치구')\n",
    "plt.ylabel('시설수')\n",
    "plt.title('패션/미용소비')"
   ]
  },
  {
   "cell_type": "code",
   "execution_count": null,
   "metadata": {},
   "outputs": [],
   "source": []
  }
 ],
 "metadata": {
  "kernelspec": {
   "display_name": "Python 3",
   "language": "python",
   "name": "python3"
  },
  "language_info": {
   "codemirror_mode": {
    "name": "ipython",
    "version": 3
   },
   "file_extension": ".py",
   "mimetype": "text/x-python",
   "name": "python",
   "nbconvert_exporter": "python",
   "pygments_lexer": "ipython3",
   "version": "3.10.4"
  },
  "orig_nbformat": 4
 },
 "nbformat": 4,
 "nbformat_minor": 2
}
