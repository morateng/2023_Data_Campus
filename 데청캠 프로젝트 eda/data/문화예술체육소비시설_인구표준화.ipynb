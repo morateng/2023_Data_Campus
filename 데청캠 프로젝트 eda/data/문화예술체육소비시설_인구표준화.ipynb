{
 "cells": [
  {
   "cell_type": "code",
   "execution_count": 1,
   "metadata": {},
   "outputs": [],
   "source": [
    "import pandas as pd"
   ]
  },
  {
   "cell_type": "code",
   "execution_count": 2,
   "metadata": {},
   "outputs": [
    {
     "data": {
      "text/html": [
       "<div>\n",
       "<style scoped>\n",
       "    .dataframe tbody tr th:only-of-type {\n",
       "        vertical-align: middle;\n",
       "    }\n",
       "\n",
       "    .dataframe tbody tr th {\n",
       "        vertical-align: top;\n",
       "    }\n",
       "\n",
       "    .dataframe thead th {\n",
       "        text-align: right;\n",
       "    }\n",
       "</style>\n",
       "<table border=\"1\" class=\"dataframe\">\n",
       "  <thead>\n",
       "    <tr style=\"text-align: right;\">\n",
       "      <th></th>\n",
       "      <th>LCLAS_NM</th>\n",
       "      <th>MLSFC_NM</th>\n",
       "      <th>SIGNGU_NM</th>\n",
       "      <th>AREA_POPLTN_STDIZ_FCLTY_SCORE</th>\n",
       "    </tr>\n",
       "  </thead>\n",
       "  <tbody>\n",
       "    <tr>\n",
       "      <th>0</th>\n",
       "      <td>문화예술</td>\n",
       "      <td>공연시설</td>\n",
       "      <td>서울특별시 종로구</td>\n",
       "      <td>100.00000</td>\n",
       "    </tr>\n",
       "    <tr>\n",
       "      <th>1</th>\n",
       "      <td>문화예술</td>\n",
       "      <td>공연시설</td>\n",
       "      <td>서울특별시 중구</td>\n",
       "      <td>58.43065</td>\n",
       "    </tr>\n",
       "    <tr>\n",
       "      <th>2</th>\n",
       "      <td>문화예술</td>\n",
       "      <td>공연시설</td>\n",
       "      <td>서울특별시 용산구</td>\n",
       "      <td>46.02103</td>\n",
       "    </tr>\n",
       "    <tr>\n",
       "      <th>3</th>\n",
       "      <td>문화예술</td>\n",
       "      <td>공연시설</td>\n",
       "      <td>서울특별시 성동구</td>\n",
       "      <td>39.59594</td>\n",
       "    </tr>\n",
       "    <tr>\n",
       "      <th>4</th>\n",
       "      <td>문화예술</td>\n",
       "      <td>공연시설</td>\n",
       "      <td>서울특별시 광진구</td>\n",
       "      <td>15.32985</td>\n",
       "    </tr>\n",
       "  </tbody>\n",
       "</table>\n",
       "</div>"
      ],
      "text/plain": [
       "  LCLAS_NM MLSFC_NM  SIGNGU_NM  AREA_POPLTN_STDIZ_FCLTY_SCORE\n",
       "0     문화예술     공연시설  서울특별시 종로구                      100.00000\n",
       "1     문화예술     공연시설   서울특별시 중구                       58.43065\n",
       "2     문화예술     공연시설  서울특별시 용산구                       46.02103\n",
       "3     문화예술     공연시설  서울특별시 성동구                       39.59594\n",
       "4     문화예술     공연시설  서울특별시 광진구                       15.32985"
      ]
     },
     "execution_count": 2,
     "metadata": {},
     "output_type": "execute_result"
    }
   ],
   "source": [
    "df = pd.read_csv('../data/문화예술체육소비 시군구별 인구 표준화_202302.csv')\n",
    "df.head()"
   ]
  },
  {
   "cell_type": "code",
   "execution_count": 3,
   "metadata": {},
   "outputs": [
    {
     "name": "stderr",
     "output_type": "stream",
     "text": [
      "C:\\Users\\morat\\AppData\\Local\\Temp\\ipykernel_53104\\1741743188.py:2: SettingWithCopyWarning: \n",
      "A value is trying to be set on a copy of a slice from a DataFrame.\n",
      "Try using .loc[row_indexer,col_indexer] = value instead\n",
      "\n",
      "See the caveats in the documentation: https://pandas.pydata.org/pandas-docs/stable/user_guide/indexing.html#returning-a-view-versus-a-copy\n",
      "  df_seoul['자치구'] = df_seoul['SIGNGU_NM'].str.split().str[1]\n"
     ]
    },
    {
     "data": {
      "text/html": [
       "<div>\n",
       "<style scoped>\n",
       "    .dataframe tbody tr th:only-of-type {\n",
       "        vertical-align: middle;\n",
       "    }\n",
       "\n",
       "    .dataframe tbody tr th {\n",
       "        vertical-align: top;\n",
       "    }\n",
       "\n",
       "    .dataframe thead th {\n",
       "        text-align: right;\n",
       "    }\n",
       "</style>\n",
       "<table border=\"1\" class=\"dataframe\">\n",
       "  <thead>\n",
       "    <tr style=\"text-align: right;\">\n",
       "      <th></th>\n",
       "      <th>LCLAS_NM</th>\n",
       "      <th>MLSFC_NM</th>\n",
       "      <th>SIGNGU_NM</th>\n",
       "      <th>AREA_POPLTN_STDIZ_FCLTY_SCORE</th>\n",
       "      <th>자치구</th>\n",
       "    </tr>\n",
       "  </thead>\n",
       "  <tbody>\n",
       "    <tr>\n",
       "      <th>0</th>\n",
       "      <td>문화예술</td>\n",
       "      <td>공연시설</td>\n",
       "      <td>서울특별시 종로구</td>\n",
       "      <td>100.00000</td>\n",
       "      <td>종로구</td>\n",
       "    </tr>\n",
       "    <tr>\n",
       "      <th>1</th>\n",
       "      <td>문화예술</td>\n",
       "      <td>공연시설</td>\n",
       "      <td>서울특별시 중구</td>\n",
       "      <td>58.43065</td>\n",
       "      <td>중구</td>\n",
       "    </tr>\n",
       "    <tr>\n",
       "      <th>2</th>\n",
       "      <td>문화예술</td>\n",
       "      <td>공연시설</td>\n",
       "      <td>서울특별시 용산구</td>\n",
       "      <td>46.02103</td>\n",
       "      <td>용산구</td>\n",
       "    </tr>\n",
       "    <tr>\n",
       "      <th>3</th>\n",
       "      <td>문화예술</td>\n",
       "      <td>공연시설</td>\n",
       "      <td>서울특별시 성동구</td>\n",
       "      <td>39.59594</td>\n",
       "      <td>성동구</td>\n",
       "    </tr>\n",
       "    <tr>\n",
       "      <th>4</th>\n",
       "      <td>문화예술</td>\n",
       "      <td>공연시설</td>\n",
       "      <td>서울특별시 광진구</td>\n",
       "      <td>15.32985</td>\n",
       "      <td>광진구</td>\n",
       "    </tr>\n",
       "    <tr>\n",
       "      <th>...</th>\n",
       "      <td>...</td>\n",
       "      <td>...</td>\n",
       "      <td>...</td>\n",
       "      <td>...</td>\n",
       "      <td>...</td>\n",
       "    </tr>\n",
       "    <tr>\n",
       "      <th>3913</th>\n",
       "      <td>소비</td>\n",
       "      <td>기타소비</td>\n",
       "      <td>서울특별시 관악구</td>\n",
       "      <td>30.18632</td>\n",
       "      <td>관악구</td>\n",
       "    </tr>\n",
       "    <tr>\n",
       "      <th>3914</th>\n",
       "      <td>소비</td>\n",
       "      <td>기타소비</td>\n",
       "      <td>서울특별시 서초구</td>\n",
       "      <td>22.22283</td>\n",
       "      <td>서초구</td>\n",
       "    </tr>\n",
       "    <tr>\n",
       "      <th>3915</th>\n",
       "      <td>소비</td>\n",
       "      <td>기타소비</td>\n",
       "      <td>서울특별시 강남구</td>\n",
       "      <td>34.64498</td>\n",
       "      <td>강남구</td>\n",
       "    </tr>\n",
       "    <tr>\n",
       "      <th>3916</th>\n",
       "      <td>소비</td>\n",
       "      <td>기타소비</td>\n",
       "      <td>서울특별시 송파구</td>\n",
       "      <td>30.32141</td>\n",
       "      <td>송파구</td>\n",
       "    </tr>\n",
       "    <tr>\n",
       "      <th>3917</th>\n",
       "      <td>소비</td>\n",
       "      <td>기타소비</td>\n",
       "      <td>서울특별시 강동구</td>\n",
       "      <td>34.90353</td>\n",
       "      <td>강동구</td>\n",
       "    </tr>\n",
       "  </tbody>\n",
       "</table>\n",
       "<p>450 rows × 5 columns</p>\n",
       "</div>"
      ],
      "text/plain": [
       "     LCLAS_NM MLSFC_NM  SIGNGU_NM  AREA_POPLTN_STDIZ_FCLTY_SCORE  자치구\n",
       "0        문화예술     공연시설  서울특별시 종로구                      100.00000  종로구\n",
       "1        문화예술     공연시설   서울특별시 중구                       58.43065   중구\n",
       "2        문화예술     공연시설  서울특별시 용산구                       46.02103  용산구\n",
       "3        문화예술     공연시설  서울특별시 성동구                       39.59594  성동구\n",
       "4        문화예술     공연시설  서울특별시 광진구                       15.32985  광진구\n",
       "...       ...      ...        ...                            ...  ...\n",
       "3913       소비     기타소비  서울특별시 관악구                       30.18632  관악구\n",
       "3914       소비     기타소비  서울특별시 서초구                       22.22283  서초구\n",
       "3915       소비     기타소비  서울특별시 강남구                       34.64498  강남구\n",
       "3916       소비     기타소비  서울특별시 송파구                       30.32141  송파구\n",
       "3917       소비     기타소비  서울특별시 강동구                       34.90353  강동구\n",
       "\n",
       "[450 rows x 5 columns]"
      ]
     },
     "execution_count": 3,
     "metadata": {},
     "output_type": "execute_result"
    }
   ],
   "source": [
    "df_seoul = df[df['SIGNGU_NM'].str.contains('서울특별시')]\n",
    "df_seoul['자치구'] = df_seoul['SIGNGU_NM'].str.split().str[1]\n",
    "df_seoul"
   ]
  },
  {
   "cell_type": "code",
   "execution_count": 4,
   "metadata": {},
   "outputs": [
    {
     "data": {
      "text/html": [
       "<div>\n",
       "<style scoped>\n",
       "    .dataframe tbody tr th:only-of-type {\n",
       "        vertical-align: middle;\n",
       "    }\n",
       "\n",
       "    .dataframe tbody tr th {\n",
       "        vertical-align: top;\n",
       "    }\n",
       "\n",
       "    .dataframe thead th {\n",
       "        text-align: right;\n",
       "    }\n",
       "</style>\n",
       "<table border=\"1\" class=\"dataframe\">\n",
       "  <thead>\n",
       "    <tr style=\"text-align: right;\">\n",
       "      <th></th>\n",
       "      <th>LCLAS_NM</th>\n",
       "      <th>MLSFC_NM</th>\n",
       "      <th>SIGNGU_NM</th>\n",
       "      <th>AREA_POPLTN_STDIZ_FCLTY_SCORE</th>\n",
       "      <th>자치구</th>\n",
       "    </tr>\n",
       "  </thead>\n",
       "  <tbody>\n",
       "    <tr>\n",
       "      <th>0</th>\n",
       "      <td>문화예술</td>\n",
       "      <td>공연시설</td>\n",
       "      <td>서울특별시 종로구</td>\n",
       "      <td>100.00000</td>\n",
       "      <td>종로구</td>\n",
       "    </tr>\n",
       "    <tr>\n",
       "      <th>1</th>\n",
       "      <td>문화예술</td>\n",
       "      <td>공연시설</td>\n",
       "      <td>서울특별시 중구</td>\n",
       "      <td>58.43065</td>\n",
       "      <td>중구</td>\n",
       "    </tr>\n",
       "    <tr>\n",
       "      <th>2</th>\n",
       "      <td>문화예술</td>\n",
       "      <td>공연시설</td>\n",
       "      <td>서울특별시 용산구</td>\n",
       "      <td>46.02103</td>\n",
       "      <td>용산구</td>\n",
       "    </tr>\n",
       "    <tr>\n",
       "      <th>3</th>\n",
       "      <td>문화예술</td>\n",
       "      <td>공연시설</td>\n",
       "      <td>서울특별시 성동구</td>\n",
       "      <td>39.59594</td>\n",
       "      <td>성동구</td>\n",
       "    </tr>\n",
       "    <tr>\n",
       "      <th>4</th>\n",
       "      <td>문화예술</td>\n",
       "      <td>공연시설</td>\n",
       "      <td>서울특별시 광진구</td>\n",
       "      <td>15.32985</td>\n",
       "      <td>광진구</td>\n",
       "    </tr>\n",
       "    <tr>\n",
       "      <th>5</th>\n",
       "      <td>문화예술</td>\n",
       "      <td>공연시설</td>\n",
       "      <td>서울특별시 동대문구</td>\n",
       "      <td>3.82535</td>\n",
       "      <td>동대문구</td>\n",
       "    </tr>\n",
       "    <tr>\n",
       "      <th>6</th>\n",
       "      <td>문화예술</td>\n",
       "      <td>공연시설</td>\n",
       "      <td>서울특별시 중랑구</td>\n",
       "      <td>3.28826</td>\n",
       "      <td>중랑구</td>\n",
       "    </tr>\n",
       "    <tr>\n",
       "      <th>7</th>\n",
       "      <td>문화예술</td>\n",
       "      <td>공연시설</td>\n",
       "      <td>서울특별시 성북구</td>\n",
       "      <td>11.13411</td>\n",
       "      <td>성북구</td>\n",
       "    </tr>\n",
       "    <tr>\n",
       "      <th>8</th>\n",
       "      <td>문화예술</td>\n",
       "      <td>공연시설</td>\n",
       "      <td>서울특별시 강북구</td>\n",
       "      <td>4.21560</td>\n",
       "      <td>강북구</td>\n",
       "    </tr>\n",
       "    <tr>\n",
       "      <th>9</th>\n",
       "      <td>문화예술</td>\n",
       "      <td>공연시설</td>\n",
       "      <td>서울특별시 도봉구</td>\n",
       "      <td>3.07233</td>\n",
       "      <td>도봉구</td>\n",
       "    </tr>\n",
       "    <tr>\n",
       "      <th>10</th>\n",
       "      <td>문화예술</td>\n",
       "      <td>공연시설</td>\n",
       "      <td>서울특별시 노원구</td>\n",
       "      <td>2.82094</td>\n",
       "      <td>노원구</td>\n",
       "    </tr>\n",
       "    <tr>\n",
       "      <th>11</th>\n",
       "      <td>문화예술</td>\n",
       "      <td>공연시설</td>\n",
       "      <td>서울특별시 은평구</td>\n",
       "      <td>4.68463</td>\n",
       "      <td>은평구</td>\n",
       "    </tr>\n",
       "    <tr>\n",
       "      <th>12</th>\n",
       "      <td>문화예술</td>\n",
       "      <td>공연시설</td>\n",
       "      <td>서울특별시 서대문구</td>\n",
       "      <td>14.70340</td>\n",
       "      <td>서대문구</td>\n",
       "    </tr>\n",
       "    <tr>\n",
       "      <th>13</th>\n",
       "      <td>문화예술</td>\n",
       "      <td>공연시설</td>\n",
       "      <td>서울특별시 마포구</td>\n",
       "      <td>94.34368</td>\n",
       "      <td>마포구</td>\n",
       "    </tr>\n",
       "    <tr>\n",
       "      <th>14</th>\n",
       "      <td>문화예술</td>\n",
       "      <td>공연시설</td>\n",
       "      <td>서울특별시 양천구</td>\n",
       "      <td>6.68505</td>\n",
       "      <td>양천구</td>\n",
       "    </tr>\n",
       "    <tr>\n",
       "      <th>15</th>\n",
       "      <td>문화예술</td>\n",
       "      <td>공연시설</td>\n",
       "      <td>서울특별시 강서구</td>\n",
       "      <td>11.18959</td>\n",
       "      <td>강서구</td>\n",
       "    </tr>\n",
       "    <tr>\n",
       "      <th>16</th>\n",
       "      <td>문화예술</td>\n",
       "      <td>공연시설</td>\n",
       "      <td>서울특별시 구로구</td>\n",
       "      <td>8.53927</td>\n",
       "      <td>구로구</td>\n",
       "    </tr>\n",
       "    <tr>\n",
       "      <th>17</th>\n",
       "      <td>문화예술</td>\n",
       "      <td>공연시설</td>\n",
       "      <td>서울특별시 금천구</td>\n",
       "      <td>11.74263</td>\n",
       "      <td>금천구</td>\n",
       "    </tr>\n",
       "    <tr>\n",
       "      <th>18</th>\n",
       "      <td>문화예술</td>\n",
       "      <td>공연시설</td>\n",
       "      <td>서울특별시 영등포구</td>\n",
       "      <td>25.88114</td>\n",
       "      <td>영등포구</td>\n",
       "    </tr>\n",
       "    <tr>\n",
       "      <th>19</th>\n",
       "      <td>문화예술</td>\n",
       "      <td>공연시설</td>\n",
       "      <td>서울특별시 동작구</td>\n",
       "      <td>7.45332</td>\n",
       "      <td>동작구</td>\n",
       "    </tr>\n",
       "    <tr>\n",
       "      <th>20</th>\n",
       "      <td>문화예술</td>\n",
       "      <td>공연시설</td>\n",
       "      <td>서울특별시 관악구</td>\n",
       "      <td>5.73482</td>\n",
       "      <td>관악구</td>\n",
       "    </tr>\n",
       "    <tr>\n",
       "      <th>21</th>\n",
       "      <td>문화예술</td>\n",
       "      <td>공연시설</td>\n",
       "      <td>서울특별시 서초구</td>\n",
       "      <td>69.70102</td>\n",
       "      <td>서초구</td>\n",
       "    </tr>\n",
       "    <tr>\n",
       "      <th>22</th>\n",
       "      <td>문화예술</td>\n",
       "      <td>공연시설</td>\n",
       "      <td>서울특별시 강남구</td>\n",
       "      <td>100.00000</td>\n",
       "      <td>강남구</td>\n",
       "    </tr>\n",
       "    <tr>\n",
       "      <th>23</th>\n",
       "      <td>문화예술</td>\n",
       "      <td>공연시설</td>\n",
       "      <td>서울특별시 송파구</td>\n",
       "      <td>9.60913</td>\n",
       "      <td>송파구</td>\n",
       "    </tr>\n",
       "    <tr>\n",
       "      <th>24</th>\n",
       "      <td>문화예술</td>\n",
       "      <td>공연시설</td>\n",
       "      <td>서울특별시 강동구</td>\n",
       "      <td>5.20328</td>\n",
       "      <td>강동구</td>\n",
       "    </tr>\n",
       "  </tbody>\n",
       "</table>\n",
       "</div>"
      ],
      "text/plain": [
       "   LCLAS_NM MLSFC_NM   SIGNGU_NM  AREA_POPLTN_STDIZ_FCLTY_SCORE   자치구\n",
       "0      문화예술     공연시설   서울특별시 종로구                      100.00000   종로구\n",
       "1      문화예술     공연시설    서울특별시 중구                       58.43065    중구\n",
       "2      문화예술     공연시설   서울특별시 용산구                       46.02103   용산구\n",
       "3      문화예술     공연시설   서울특별시 성동구                       39.59594   성동구\n",
       "4      문화예술     공연시설   서울특별시 광진구                       15.32985   광진구\n",
       "5      문화예술     공연시설  서울특별시 동대문구                        3.82535  동대문구\n",
       "6      문화예술     공연시설   서울특별시 중랑구                        3.28826   중랑구\n",
       "7      문화예술     공연시설   서울특별시 성북구                       11.13411   성북구\n",
       "8      문화예술     공연시설   서울특별시 강북구                        4.21560   강북구\n",
       "9      문화예술     공연시설   서울특별시 도봉구                        3.07233   도봉구\n",
       "10     문화예술     공연시설   서울특별시 노원구                        2.82094   노원구\n",
       "11     문화예술     공연시설   서울특별시 은평구                        4.68463   은평구\n",
       "12     문화예술     공연시설  서울특별시 서대문구                       14.70340  서대문구\n",
       "13     문화예술     공연시설   서울특별시 마포구                       94.34368   마포구\n",
       "14     문화예술     공연시설   서울특별시 양천구                        6.68505   양천구\n",
       "15     문화예술     공연시설   서울특별시 강서구                       11.18959   강서구\n",
       "16     문화예술     공연시설   서울특별시 구로구                        8.53927   구로구\n",
       "17     문화예술     공연시설   서울특별시 금천구                       11.74263   금천구\n",
       "18     문화예술     공연시설  서울특별시 영등포구                       25.88114  영등포구\n",
       "19     문화예술     공연시설   서울특별시 동작구                        7.45332   동작구\n",
       "20     문화예술     공연시설   서울특별시 관악구                        5.73482   관악구\n",
       "21     문화예술     공연시설   서울특별시 서초구                       69.70102   서초구\n",
       "22     문화예술     공연시설   서울특별시 강남구                      100.00000   강남구\n",
       "23     문화예술     공연시설   서울특별시 송파구                        9.60913   송파구\n",
       "24     문화예술     공연시설   서울특별시 강동구                        5.20328   강동구"
      ]
     },
     "execution_count": 4,
     "metadata": {},
     "output_type": "execute_result"
    }
   ],
   "source": [
    "import matplotlib.pyplot as plt\n",
    "import seaborn as sns\n",
    "\n",
    "df_seoul['MLSFC_NM'].unique()\n",
    "df_seoul_공연시설 = df_seoul[df_seoul['MLSFC_NM'].str.contains('공연시설')]\n",
    "df_seoul_공연시설"
   ]
  },
  {
   "cell_type": "code",
   "execution_count": 9,
   "metadata": {},
   "outputs": [
    {
     "data": {
      "text/plain": [
       "Text(0.5, 1.0, '인구대비 공연시설수')"
      ]
     },
     "execution_count": 9,
     "metadata": {},
     "output_type": "execute_result"
    },
    {
     "data": {
      "image/png": "[encoded data removed]",
      "text/plain": [
       "<Figure size 1440x576 with 1 Axes>"
      ]
     },
     "metadata": {
      "needs_background": "light"
     },
     "output_type": "display_data"
    }
   ],
   "source": [
    "plt.rcParams['font.family'] = 'Malgun Gothic'\n",
    "plt.figure(figsize = (20,8))\n",
    "\n",
    "sns.barplot(x='자치구', y='AREA_POPLTN_STDIZ_FCLTY_SCORE',data=df_seoul_공연시설)\n",
    "plt.xlabel('자치구')\n",
    "plt.ylabel('시설수')\n",
    "plt.title('인구대비 공연시설수')"
   ]
  },
  {
   "cell_type": "code",
   "execution_count": 10,
   "metadata": {},
   "outputs": [
    {
     "data": {
      "text/plain": [
       "Text(0.5, 1.0, '인구대비 전시시설수')"
      ]
     },
     "execution_count": 10,
     "metadata": {},
     "output_type": "execute_result"
    },
    {
     "data": {
      "image/png": "[encoded data removed]",
      "text/plain": [
       "<Figure size 1440x576 with 1 Axes>"
      ]
     },
     "metadata": {
      "needs_background": "light"
     },
     "output_type": "display_data"
    }
   ],
   "source": [
    "df_seoul_전시시설 = df_seoul[df_seoul['MLSFC_NM'].str.contains('전시시설')]\n",
    "plt.figure(figsize = (20,8))\n",
    "\n",
    "sns.barplot(x='자치구', y='AREA_POPLTN_STDIZ_FCLTY_SCORE',data=df_seoul_전시시설)\n",
    "plt.xlabel('자치구')\n",
    "plt.ylabel('시설수')\n",
    "plt.title('인구대비 전시시설수')"
   ]
  },
  {
   "cell_type": "code",
   "execution_count": 12,
   "metadata": {},
   "outputs": [
    {
     "data": {
      "text/plain": [
       "Text(0.5, 1.0, '지역문화시설')"
      ]
     },
     "execution_count": 12,
     "metadata": {},
     "output_type": "execute_result"
    },
    {
     "data": {
      "image/png": "[encoded data removed]",
      "text/plain": [
       "<Figure size 1440x576 with 1 Axes>"
      ]
     },
     "metadata": {
      "needs_background": "light"
     },
     "output_type": "display_data"
    }
   ],
   "source": [
    "df_seoul_지역문화시설 = df_seoul[df_seoul['MLSFC_NM'].str.contains('지역문화시설')]\n",
    "plt.figure(figsize = (20,8))\n",
    "sns.barplot(x='자치구', y='AREA_POPLTN_STDIZ_FCLTY_SCORE',data=df_seoul_지역문화시설)\n",
    "plt.xlabel('자치구')\n",
    "plt.ylabel('시설수')\n",
    "plt.title('지역문화시설')"
   ]
  },
  {
   "cell_type": "code",
   "execution_count": 13,
   "metadata": {},
   "outputs": [
    {
     "data": {
      "text/plain": [
       "Text(0.5, 1.0, '문화예술서비스')"
      ]
     },
     "execution_count": 13,
     "metadata": {},
     "output_type": "execute_result"
    },
    {
     "data": {
      "image/png": "[encoded data removed]",
      "text/plain": [
       "<Figure size 1440x576 with 1 Axes>"
      ]
     },
     "metadata": {
      "needs_background": "light"
     },
     "output_type": "display_data"
    }
   ],
   "source": [
    "df_seoul_문화예술서비스 = df_seoul[df_seoul['MLSFC_NM'].str.contains('문화예술서비스')]\n",
    "plt.figure(figsize = (20,8))\n",
    "sns.barplot(x='자치구', y='AREA_POPLTN_STDIZ_FCLTY_SCORE',data=df_seoul_문화예술서비스)\n",
    "plt.xlabel('자치구')\n",
    "plt.ylabel('시설수')\n",
    "plt.title('문화예술서비스')"
   ]
  },
  {
   "cell_type": "code",
   "execution_count": 14,
   "metadata": {},
   "outputs": [
    {
     "data": {
      "text/plain": [
       "Text(0.5, 1.0, '생활스포츠시설')"
      ]
     },
     "execution_count": 14,
     "metadata": {},
     "output_type": "execute_result"
    },
    {
     "data": {
      "image/png": "[encoded data removed]",
      "text/plain": [
       "<Figure size 1440x576 with 1 Axes>"
      ]
     },
     "metadata": {
      "needs_background": "light"
     },
     "output_type": "display_data"
    }
   ],
   "source": [
    "df_seoul_생활스포츠시설 = df_seoul[df_seoul['MLSFC_NM'].str.contains('생활스포츠시설')]\n",
    "plt.figure(figsize = (20,8))\n",
    "sns.barplot(x='자치구', y='AREA_POPLTN_STDIZ_FCLTY_SCORE',data=df_seoul_생활스포츠시설)\n",
    "plt.xlabel('자치구')\n",
    "plt.ylabel('시설수')\n",
    "plt.title('생활스포츠시설')"
   ]
  },
  {
   "cell_type": "code",
   "execution_count": 15,
   "metadata": {},
   "outputs": [
    {
     "data": {
      "text/plain": [
       "Text(0.5, 1.0, '전문스포츠시설')"
      ]
     },
     "execution_count": 15,
     "metadata": {},
     "output_type": "execute_result"
    },
    {
     "data": {
      "image/png": "[encoded data removed]",
      "text/plain": [
       "<Figure size 1440x576 with 1 Axes>"
      ]
     },
     "metadata": {
      "needs_background": "light"
     },
     "output_type": "display_data"
    }
   ],
   "source": [
    "df_seoul_전문스포츠시설 = df_seoul[df_seoul['MLSFC_NM'].str.contains('전문스포츠시설')]\n",
    "plt.figure(figsize = (20,8))\n",
    "sns.barplot(x='자치구', y='AREA_POPLTN_STDIZ_FCLTY_SCORE',data=df_seoul_전문스포츠시설)\n",
    "plt.xlabel('자치구')\n",
    "plt.ylabel('시설수')\n",
    "plt.title('전문스포츠시설')"
   ]
  },
  {
   "cell_type": "code",
   "execution_count": 16,
   "metadata": {},
   "outputs": [
    {
     "data": {
      "text/plain": [
       "Text(0.5, 1.0, '공원')"
      ]
     },
     "execution_count": 16,
     "metadata": {},
     "output_type": "execute_result"
    },
    {
     "data": {
      "image/png": "[encoded data removed]",
      "text/plain": [
       "<Figure size 1440x576 with 1 Axes>"
      ]
     },
     "metadata": {
      "needs_background": "light"
     },
     "output_type": "display_data"
    }
   ],
   "source": [
    "df_seoul_공원 = df_seoul[df_seoul['MLSFC_NM'].str.contains('공원')]\n",
    "plt.figure(figsize = (20,8))\n",
    "sns.barplot(x='자치구', y='AREA_POPLTN_STDIZ_FCLTY_SCORE',data=df_seoul_공원)\n",
    "plt.xlabel('자치구')\n",
    "plt.ylabel('시설수')\n",
    "plt.title('공원')"
   ]
  },
  {
   "cell_type": "markdown",
   "metadata": {},
   "source": [
    "### 시설수와 인구당 시설수를 보니 종로구, 중구는 따로 봐야할 필요가 있을듯"
   ]
  },
  {
   "cell_type": "code",
   "execution_count": null,
   "metadata": {},
   "outputs": [],
   "source": []
  }
 ],
 "metadata": {
  "kernelspec": {
   "display_name": "Python 3",
   "language": "python",
   "name": "python3"
  },
  "language_info": {
   "codemirror_mode": {
    "name": "ipython",
    "version": 3
   },
   "file_extension": ".py",
   "mimetype": "text/x-python",
   "name": "python",
   "nbconvert_exporter": "python",
   "pygments_lexer": "ipython3",
   "version": "3.10.4"
  },
  "orig_nbformat": 4
 },
 "nbformat": 4,
 "nbformat_minor": 2
}
